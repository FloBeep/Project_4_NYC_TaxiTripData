{
  "nbformat": 4,
  "nbformat_minor": 0,
  "metadata": {
    "colab": {
      "provenance": []
    },
    "kernelspec": {
      "name": "python3",
      "display_name": "Python 3"
    },
    "language_info": {
      "name": "python"
    }
  },
  "cells": [
    {
      "cell_type": "code",
      "execution_count": 1,
      "metadata": {
        "colab": {
          "base_uri": "https://localhost:8080/"
        },
        "id": "eSxOuvZ_7pHF",
        "outputId": "af9b43bf-2b02-427b-f3cb-661706feb601"
      },
      "outputs": [
        {
          "output_type": "stream",
          "name": "stdout",
          "text": [
            "\r0% [Working]\r            \rGet:1 https://cloud.r-project.org/bin/linux/ubuntu jammy-cran40/ InRelease [3,626 B]\n",
            "\r0% [Connecting to archive.ubuntu.com] [Waiting for headers] [1 InRelease 3,626 B/3,626 B 100%] [Conn\r0% [Connecting to archive.ubuntu.com] [Waiting for headers] [Connected to r2u.stat.illinois.edu (192\r                                                                                                    \rGet:2 https://developer.download.nvidia.com/compute/cuda/repos/ubuntu2204/x86_64  InRelease [1,581 B]\n",
            "Get:3 http://security.ubuntu.com/ubuntu jammy-security InRelease [129 kB]\n",
            "Hit:4 http://archive.ubuntu.com/ubuntu jammy InRelease\n",
            "Get:5 https://r2u.stat.illinois.edu/ubuntu jammy InRelease [6,555 B]\n",
            "Get:6 http://archive.ubuntu.com/ubuntu jammy-updates InRelease [128 kB]\n",
            "Get:7 https://developer.download.nvidia.com/compute/cuda/repos/ubuntu2204/x86_64  Packages [1,173 kB]\n",
            "Hit:8 https://ppa.launchpadcontent.net/deadsnakes/ppa/ubuntu jammy InRelease\n",
            "Get:9 http://archive.ubuntu.com/ubuntu jammy-backports InRelease [127 kB]\n",
            "Hit:10 https://ppa.launchpadcontent.net/graphics-drivers/ppa/ubuntu jammy InRelease\n",
            "Hit:11 https://ppa.launchpadcontent.net/ubuntugis/ppa/ubuntu jammy InRelease\n",
            "Get:12 https://r2u.stat.illinois.edu/ubuntu jammy/main all Packages [8,514 kB]\n",
            "Get:13 http://security.ubuntu.com/ubuntu jammy-security/main amd64 Packages [2,454 kB]\n",
            "Get:14 http://archive.ubuntu.com/ubuntu jammy-updates/universe amd64 Packages [1,513 kB]\n",
            "Get:15 http://security.ubuntu.com/ubuntu jammy-security/universe amd64 Packages [1,224 kB]\n",
            "Get:16 https://r2u.stat.illinois.edu/ubuntu jammy/main amd64 Packages [2,619 kB]\n",
            "Get:17 http://archive.ubuntu.com/ubuntu jammy-updates/main amd64 Packages [2,738 kB]\n",
            "Get:18 http://archive.ubuntu.com/ubuntu jammy-backports/universe amd64 Packages [33.8 kB]\n",
            "Fetched 20.7 MB in 4s (4,678 kB/s)\n",
            "Reading package lists... Done\n",
            "W: Skipping acquire of configured file 'main/source/Sources' as repository 'https://r2u.stat.illinois.edu/ubuntu jammy InRelease' does not seem to provide it (sources.list entry misspelt?)\n"
          ]
        }
      ],
      "source": [
        "import os\n",
        "# Find the latest version of spark 3.x  from http://www.apache.org/dist/spark/ and enter as the spark version\n",
        "# For example:\n",
        "# spark_version = 'spark-3.4.0'\n",
        "spark_version = 'spark-3.4.4'\n",
        "os.environ['SPARK_VERSION']=spark_version\n",
        "\n",
        "# Install Spark and Java\n",
        "!apt-get update\n",
        "!apt-get install openjdk-11-jdk-headless -qq > /dev/null\n",
        "!wget -q http://www.apache.org/dist/spark/$SPARK_VERSION/$SPARK_VERSION-bin-hadoop3.tgz\n",
        "!tar xf $SPARK_VERSION-bin-hadoop3.tgz\n",
        "!pip install -q findspark\n",
        "\n",
        "# Set Environment Variables\n",
        "os.environ[\"JAVA_HOME\"] = \"/usr/lib/jvm/java-11-openjdk-amd64\"\n",
        "os.environ[\"SPARK_HOME\"] = f\"/content/{spark_version}-bin-hadoop3\"\n",
        "\n",
        "# Start a SparkSession\n",
        "import findspark\n",
        "findspark.init()"
      ]
    },
    {
      "cell_type": "code",
      "source": [
        "# Import packages\n",
        "from pyspark.sql import SparkSession\n",
        "import time\n",
        "\n",
        "# Create a SparkSession\n",
        "spark = SparkSession.builder.appName(\"SparkSQL\").getOrCreate()"
      ],
      "metadata": {
        "id": "8t_rFi3U7tCq"
      },
      "execution_count": 2,
      "outputs": []
    },
    {
      "cell_type": "code",
      "source": [
        "# Read in data from S3 Bucket\n",
        "from pyspark import SparkFiles\n",
        "url = \"https://project4-nyctaxi.s3.us-east-1.amazonaws.com/new_train.csv\"\n",
        "spark.sparkContext.addFile(url)\n",
        "df = spark.read.csv(SparkFiles.get(\"new_train.csv\"), sep=\",\", header=True)\n",
        "df.show()"
      ],
      "metadata": {
        "colab": {
          "base_uri": "https://localhost:8080/"
        },
        "id": "-l9_nGTF7wRk",
        "outputId": "8a81d544-40b2-49b9-d422-6ab5ff345c2a"
      },
      "execution_count": 3,
      "outputs": [
        {
          "output_type": "stream",
          "name": "stdout",
          "text": [
            "+-------------------+-------------------+---------------+---------------+----------------+------------------+-------------+------------------+------------------+------------------+-----------------+\n",
            "|    pickup_datetime|   dropoff_datetime|passenger_count|pickup_location|dropoff_location|store_and_fwd_flag|trip_duration|   pickup_latitude|  pickup_longitude|  dropoff_latitude|dropoff_longitude|\n",
            "+-------------------+-------------------+---------------+---------------+----------------+------------------+-------------+------------------+------------------+------------------+-----------------+\n",
            "|2024-01-03 22:50:16|2024-01-03 22:59:25|            1.0|             50|             236|                 N|          549|218437.82028573466| 985597.5343919232| 223613.7535760244|996155.3867656847|\n",
            "|2024-01-25 09:33:05|2024-01-25 09:48:58|            1.0|            238|             230|                 N|          953|227717.51805898765| 991712.7644413216| 216099.1397683868|988628.0600467023|\n",
            "|2024-01-11 19:14:23|2024-01-11 19:55:29|            1.0|            237|               1|                 N|         2466|219305.82782555217| 993769.0237137815|191376.74953083202|935996.8210162065|\n",
            "|2024-01-04 21:30:56|2024-01-04 21:38:43|            1.0|            230|              68|                 N|          467| 216099.1397683868| 988628.0600467023|211948.91240008172|984272.7786326221|\n",
            "|2024-01-11 11:13:18|2024-01-11 11:19:52|            1.0|             88|              13|                 N|          394|195528.92479920073| 981057.2642958593|198691.52543753176| 979792.331028984|\n",
            "|2024-01-18 12:57:43|2024-01-18 13:14:17|            1.0|            161|             142|                 N|          994| 215447.5272239114|  990428.525989642| 221132.7753491493|989365.0684741095|\n",
            "|2024-01-20 13:24:02|2024-01-20 13:29:28|            1.0|            237|             161|                 N|          326|219305.82782555217| 993769.0237137815| 215447.5272239114| 990428.525989642|\n",
            "|2024-01-08 21:41:10|2024-01-08 21:53:49|            1.0|            166|             262|                 N|          759| 234186.3268721064| 994834.7872526807|  221974.400787808|999064.7250824339|\n",
            "|2024-01-30 19:33:30|2024-01-30 19:38:56|            2.0|            142|             142|                 N|          326| 221132.7753491493| 989365.0684741095| 221132.7753491493|989365.0684741095|\n",
            "|2024-01-05 23:52:24|2024-01-06 00:08:10|            2.0|             48|              79|                 N|          946|216986.07003374878| 987063.1857021254| 204368.5018753222|988147.6579909977|\n",
            "|2024-01-26 20:03:46|2024-01-26 20:28:24|            2.0|            261|             141|                 N|         1478| 197635.1737024674| 980639.5117675496| 218699.1927268597|995431.1975186545|\n",
            "|2024-01-12 17:47:53|2024-01-12 18:04:32|            1.0|            113|             170|                 N|          999|206174.92383447656|  985828.421266087|211701.31597992923|990209.6000586881|\n",
            "|2024-01-15 18:50:41|2024-01-15 19:00:50|            4.0|            234|             231|                 N|          609|209001.62663046308| 986894.2367963481|200780.54042725134|982065.7013854686|\n",
            "|2024-01-26 14:49:43|2024-01-26 14:57:11|            1.0|            186|             107|                 N|          448| 211974.4462185665| 986345.3986004688|207721.84599820204|988669.5907152938|\n",
            "|2024-01-25 21:26:48|2024-01-25 21:44:59|            1.0|            144|             164|                 N|         1091| 201915.7902757445| 985104.1485227022|212002.89303566894| 988362.833435725|\n",
            "|2024-01-07 18:35:15|2024-01-07 19:04:12|            1.0|            132|              45|                 N|         1737|175062.67758486557|1043488.1868617043|198844.63611660182|984762.4692829204|\n",
            "|2024-01-12 15:18:33|2024-01-12 15:38:11|            1.0|             43|             224|                 N|         1178|224356.21221165065| 993789.0096985319|205899.41753291615|990735.9403089168|\n",
            "|2024-01-05 10:47:59|2024-01-05 10:54:55|            1.0|             79|             137|                 N|          416| 204368.5018753222| 988147.6579909977| 209039.3538898732| 990763.615736023|\n",
            "|2024-01-07 11:37:55|2024-01-07 11:47:03|            1.0|             43|              48|                 N|          548|224356.21221165065| 993789.0096985319|216986.07003374878|987063.1857021254|\n",
            "|2024-01-14 20:33:18|2024-01-14 20:38:31|            1.0|            262|             141|                 N|          313|  221974.400787808| 999064.7250824339| 218699.1927268597|995431.1975186545|\n",
            "+-------------------+-------------------+---------------+---------------+----------------+------------------+-------------+------------------+------------------+------------------+-----------------+\n",
            "only showing top 20 rows\n",
            "\n"
          ]
        }
      ]
    }
  ]
}