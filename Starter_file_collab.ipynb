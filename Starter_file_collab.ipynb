{
  "nbformat": 4,
  "nbformat_minor": 0,
  "metadata": {
    "colab": {
      "provenance": []
    },
    "kernelspec": {
      "name": "python3",
      "display_name": "Python 3"
    },
    "language_info": {
      "name": "python"
    }
  },
  "cells": [
    {
      "cell_type": "code",
      "execution_count": 1,
      "metadata": {
        "colab": {
          "base_uri": "https://localhost:8080/"
        },
        "id": "eSxOuvZ_7pHF",
        "outputId": "98dd54e4-ae8b-47f6-dba3-3d8ba9a91c97"
      },
      "outputs": [
        {
          "output_type": "stream",
          "name": "stdout",
          "text": [
            "\r0% [Working]\r            \rGet:1 http://security.ubuntu.com/ubuntu jammy-security InRelease [129 kB]\n",
            "\r            \rGet:2 https://developer.download.nvidia.com/compute/cuda/repos/ubuntu2204/x86_64  InRelease [1,581 B]\n",
            "Get:3 https://cloud.r-project.org/bin/linux/ubuntu jammy-cran40/ InRelease [3,626 B]\n",
            "Hit:4 http://archive.ubuntu.com/ubuntu jammy InRelease\n",
            "Get:5 https://r2u.stat.illinois.edu/ubuntu jammy InRelease [6,555 B]\n",
            "Get:6 http://archive.ubuntu.com/ubuntu jammy-updates InRelease [128 kB]\n",
            "Get:7 https://developer.download.nvidia.com/compute/cuda/repos/ubuntu2204/x86_64  Packages [1,190 kB]\n",
            "Get:8 https://ppa.launchpadcontent.net/deadsnakes/ppa/ubuntu jammy InRelease [18.1 kB]\n",
            "Get:9 http://archive.ubuntu.com/ubuntu jammy-backports InRelease [127 kB]\n",
            "Hit:10 https://ppa.launchpadcontent.net/graphics-drivers/ppa/ubuntu jammy InRelease\n",
            "Hit:11 https://ppa.launchpadcontent.net/ubuntugis/ppa/ubuntu jammy InRelease\n",
            "Get:12 https://r2u.stat.illinois.edu/ubuntu jammy/main amd64 Packages [2,625 kB]\n",
            "Get:13 https://r2u.stat.illinois.edu/ubuntu jammy/main all Packages [8,523 kB]\n",
            "Get:14 http://security.ubuntu.com/ubuntu jammy-security/universe amd64 Packages [1,225 kB]\n",
            "Get:15 http://archive.ubuntu.com/ubuntu jammy-updates/main amd64 Packages [2,738 kB]\n",
            "Get:16 http://archive.ubuntu.com/ubuntu jammy-updates/restricted amd64 Packages [3,414 kB]\n",
            "Get:17 http://archive.ubuntu.com/ubuntu jammy-updates/multiverse amd64 Packages [52.2 kB]\n",
            "Get:18 https://ppa.launchpadcontent.net/deadsnakes/ppa/ubuntu jammy/main amd64 Packages [35.0 kB]\n",
            "Fetched 20.2 MB in 8s (2,540 kB/s)\n",
            "Reading package lists... Done\n",
            "W: Skipping acquire of configured file 'main/source/Sources' as repository 'https://r2u.stat.illinois.edu/ubuntu jammy InRelease' does not seem to provide it (sources.list entry misspelt?)\n"
          ]
        }
      ],
      "source": [
        "import os\n",
        "# Find the latest version of spark 3.x  from http://www.apache.org/dist/spark/ and enter as the spark version\n",
        "# For example:\n",
        "# spark_version = 'spark-3.4.0'\n",
        "spark_version = 'spark-3.4.4'\n",
        "os.environ['SPARK_VERSION']=spark_version\n",
        "\n",
        "# Install Spark and Java\n",
        "!apt-get update\n",
        "!apt-get install openjdk-11-jdk-headless -qq > /dev/null\n",
        "!wget -q http://www.apache.org/dist/spark/$SPARK_VERSION/$SPARK_VERSION-bin-hadoop3.tgz\n",
        "!tar xf $SPARK_VERSION-bin-hadoop3.tgz\n",
        "!pip install -q findspark\n",
        "\n",
        "# Set Environment Variables\n",
        "os.environ[\"JAVA_HOME\"] = \"/usr/lib/jvm/java-11-openjdk-amd64\"\n",
        "os.environ[\"SPARK_HOME\"] = f\"/content/{spark_version}-bin-hadoop3\"\n",
        "\n",
        "# Start a SparkSession\n",
        "import findspark\n",
        "findspark.init()"
      ]
    },
    {
      "cell_type": "code",
      "source": [
        "# Import packages\n",
        "from pyspark.sql import SparkSession\n",
        "import time\n",
        "\n",
        "# Create a SparkSession\n",
        "spark = SparkSession.builder.appName(\"SparkSQL\").getOrCreate()"
      ],
      "metadata": {
        "id": "8t_rFi3U7tCq"
      },
      "execution_count": 2,
      "outputs": []
    },
    {
      "cell_type": "code",
      "source": [
        "# Read in data from S3 Bucket\n",
        "from pyspark import SparkFiles\n",
        "url = \"https://project4-nyctaxi.s3.us-east-1.amazonaws.com/new_train.csv\"\n",
        "spark.sparkContext.addFile(url)\n",
        "df = spark.read.csv(SparkFiles.get(\"new_train.csv\"), sep=\",\", header=True)\n",
        "df.show()"
      ],
      "metadata": {
        "id": "-l9_nGTF7wRk",
        "colab": {
          "base_uri": "https://localhost:8080/"
        },
        "outputId": "b6d8cf12-9c54-4baf-c09d-40cb85a5253e"
      },
      "execution_count": 3,
      "outputs": [
        {
          "output_type": "stream",
          "name": "stdout",
          "text": [
            "+-------------------+-------------------+---------------+---------------+----------------+------------------+-------------+------------------+------------------+------------------+-----------------+\n",
            "|    pickup_datetime|   dropoff_datetime|passenger_count|pickup_location|dropoff_location|store_and_fwd_flag|trip_duration|   pickup_latitude|  pickup_longitude|  dropoff_latitude|dropoff_longitude|\n",
            "+-------------------+-------------------+---------------+---------------+----------------+------------------+-------------+------------------+------------------+------------------+-----------------+\n",
            "|2024-01-03 22:50:16|2024-01-03 22:59:25|            1.0|             50|             236|                 N|          549|218437.82028573466| 985597.5343919232| 223613.7535760244|996155.3867656847|\n",
            "|2024-01-25 09:33:05|2024-01-25 09:48:58|            1.0|            238|             230|                 N|          953|227717.51805898765| 991712.7644413216| 216099.1397683868|988628.0600467023|\n",
            "|2024-01-11 19:14:23|2024-01-11 19:55:29|            1.0|            237|               1|                 N|         2466|219305.82782555217| 993769.0237137815|191376.74953083202|935996.8210162065|\n",
            "|2024-01-04 21:30:56|2024-01-04 21:38:43|            1.0|            230|              68|                 N|          467| 216099.1397683868| 988628.0600467023|211948.91240008172|984272.7786326221|\n",
            "|2024-01-11 11:13:18|2024-01-11 11:19:52|            1.0|             88|              13|                 N|          394|195528.92479920073| 981057.2642958593|198691.52543753176| 979792.331028984|\n",
            "|2024-01-18 12:57:43|2024-01-18 13:14:17|            1.0|            161|             142|                 N|          994| 215447.5272239114|  990428.525989642| 221132.7753491493|989365.0684741095|\n",
            "|2024-01-20 13:24:02|2024-01-20 13:29:28|            1.0|            237|             161|                 N|          326|219305.82782555217| 993769.0237137815| 215447.5272239114| 990428.525989642|\n",
            "|2024-01-08 21:41:10|2024-01-08 21:53:49|            1.0|            166|             262|                 N|          759| 234186.3268721064| 994834.7872526807|  221974.400787808|999064.7250824339|\n",
            "|2024-01-30 19:33:30|2024-01-30 19:38:56|            2.0|            142|             142|                 N|          326| 221132.7753491493| 989365.0684741095| 221132.7753491493|989365.0684741095|\n",
            "|2024-01-05 23:52:24|2024-01-06 00:08:10|            2.0|             48|              79|                 N|          946|216986.07003374878| 987063.1857021254| 204368.5018753222|988147.6579909977|\n",
            "|2024-01-26 20:03:46|2024-01-26 20:28:24|            2.0|            261|             141|                 N|         1478| 197635.1737024674| 980639.5117675496| 218699.1927268597|995431.1975186545|\n",
            "|2024-01-12 17:47:53|2024-01-12 18:04:32|            1.0|            113|             170|                 N|          999|206174.92383447656|  985828.421266087|211701.31597992923|990209.6000586881|\n",
            "|2024-01-15 18:50:41|2024-01-15 19:00:50|            4.0|            234|             231|                 N|          609|209001.62663046308| 986894.2367963481|200780.54042725134|982065.7013854686|\n",
            "|2024-01-26 14:49:43|2024-01-26 14:57:11|            1.0|            186|             107|                 N|          448| 211974.4462185665| 986345.3986004688|207721.84599820204|988669.5907152938|\n",
            "|2024-01-25 21:26:48|2024-01-25 21:44:59|            1.0|            144|             164|                 N|         1091| 201915.7902757445| 985104.1485227022|212002.89303566894| 988362.833435725|\n",
            "|2024-01-07 18:35:15|2024-01-07 19:04:12|            1.0|            132|              45|                 N|         1737|175062.67758486557|1043488.1868617043|198844.63611660182|984762.4692829204|\n",
            "|2024-01-12 15:18:33|2024-01-12 15:38:11|            1.0|             43|             224|                 N|         1178|224356.21221165065| 993789.0096985319|205899.41753291615|990735.9403089168|\n",
            "|2024-01-05 10:47:59|2024-01-05 10:54:55|            1.0|             79|             137|                 N|          416| 204368.5018753222| 988147.6579909977| 209039.3538898732| 990763.615736023|\n",
            "|2024-01-07 11:37:55|2024-01-07 11:47:03|            1.0|             43|              48|                 N|          548|224356.21221165065| 993789.0096985319|216986.07003374878|987063.1857021254|\n",
            "|2024-01-14 20:33:18|2024-01-14 20:38:31|            1.0|            262|             141|                 N|          313|  221974.400787808| 999064.7250824339| 218699.1927268597|995431.1975186545|\n",
            "+-------------------+-------------------+---------------+---------------+----------------+------------------+-------------+------------------+------------------+------------------+-----------------+\n",
            "only showing top 20 rows\n",
            "\n"
          ]
        }
      ]
    },
    {
      "cell_type": "code",
      "source": [
        "# Import necessary libraries\n",
        "import pandas as pd\n",
        "from sklearn.model_selection import train_test_split\n",
        "from sklearn.ensemble import RandomForestRegressor\n",
        "from sklearn.metrics import mean_absolute_error, mean_squared_error\n",
        "import numpy as np\n"
      ],
      "metadata": {
        "id": "-_39kcKhthps"
      },
      "execution_count": 5,
      "outputs": []
    },
    {
      "cell_type": "code",
      "source": [
        "from pyspark.sql.functions import col, hour, dayofmonth, dayofweek, to_timestamp\n",
        "\n",
        "# Convert pickup_datetime to a timestamp\n",
        "df = df.withColumn('pickup_datetime', to_timestamp(col('pickup_datetime')))\n",
        "\n",
        "# Extract time-based features\n",
        "df = df.withColumn('pickup_hour', hour(col('pickup_datetime')))\n",
        "df = df.withColumn('pickup_day', dayofmonth(col('pickup_datetime')))\n",
        "df = df.withColumn('pickup_weekday', dayofweek(col('pickup_datetime')))\n",
        "\n",
        "# Show the updated DataFrame\n",
        "df.show()\n"
      ],
      "metadata": {
        "colab": {
          "base_uri": "https://localhost:8080/"
        },
        "id": "Tv1KtaH6tsZa",
        "outputId": "d2a3e622-4e80-4836-8c7e-de0538abddb3"
      },
      "execution_count": 6,
      "outputs": [
        {
          "output_type": "stream",
          "name": "stdout",
          "text": [
            "+-------------------+-------------------+---------------+---------------+----------------+------------------+-------------+------------------+------------------+------------------+-----------------+-----------+----------+--------------+\n",
            "|    pickup_datetime|   dropoff_datetime|passenger_count|pickup_location|dropoff_location|store_and_fwd_flag|trip_duration|   pickup_latitude|  pickup_longitude|  dropoff_latitude|dropoff_longitude|pickup_hour|pickup_day|pickup_weekday|\n",
            "+-------------------+-------------------+---------------+---------------+----------------+------------------+-------------+------------------+------------------+------------------+-----------------+-----------+----------+--------------+\n",
            "|2024-01-03 22:50:16|2024-01-03 22:59:25|            1.0|             50|             236|                 N|          549|218437.82028573466| 985597.5343919232| 223613.7535760244|996155.3867656847|         22|         3|             4|\n",
            "|2024-01-25 09:33:05|2024-01-25 09:48:58|            1.0|            238|             230|                 N|          953|227717.51805898765| 991712.7644413216| 216099.1397683868|988628.0600467023|          9|        25|             5|\n",
            "|2024-01-11 19:14:23|2024-01-11 19:55:29|            1.0|            237|               1|                 N|         2466|219305.82782555217| 993769.0237137815|191376.74953083202|935996.8210162065|         19|        11|             5|\n",
            "|2024-01-04 21:30:56|2024-01-04 21:38:43|            1.0|            230|              68|                 N|          467| 216099.1397683868| 988628.0600467023|211948.91240008172|984272.7786326221|         21|         4|             5|\n",
            "|2024-01-11 11:13:18|2024-01-11 11:19:52|            1.0|             88|              13|                 N|          394|195528.92479920073| 981057.2642958593|198691.52543753176| 979792.331028984|         11|        11|             5|\n",
            "|2024-01-18 12:57:43|2024-01-18 13:14:17|            1.0|            161|             142|                 N|          994| 215447.5272239114|  990428.525989642| 221132.7753491493|989365.0684741095|         12|        18|             5|\n",
            "|2024-01-20 13:24:02|2024-01-20 13:29:28|            1.0|            237|             161|                 N|          326|219305.82782555217| 993769.0237137815| 215447.5272239114| 990428.525989642|         13|        20|             7|\n",
            "|2024-01-08 21:41:10|2024-01-08 21:53:49|            1.0|            166|             262|                 N|          759| 234186.3268721064| 994834.7872526807|  221974.400787808|999064.7250824339|         21|         8|             2|\n",
            "|2024-01-30 19:33:30|2024-01-30 19:38:56|            2.0|            142|             142|                 N|          326| 221132.7753491493| 989365.0684741095| 221132.7753491493|989365.0684741095|         19|        30|             3|\n",
            "|2024-01-05 23:52:24|2024-01-06 00:08:10|            2.0|             48|              79|                 N|          946|216986.07003374878| 987063.1857021254| 204368.5018753222|988147.6579909977|         23|         5|             6|\n",
            "|2024-01-26 20:03:46|2024-01-26 20:28:24|            2.0|            261|             141|                 N|         1478| 197635.1737024674| 980639.5117675496| 218699.1927268597|995431.1975186545|         20|        26|             6|\n",
            "|2024-01-12 17:47:53|2024-01-12 18:04:32|            1.0|            113|             170|                 N|          999|206174.92383447656|  985828.421266087|211701.31597992923|990209.6000586881|         17|        12|             6|\n",
            "|2024-01-15 18:50:41|2024-01-15 19:00:50|            4.0|            234|             231|                 N|          609|209001.62663046308| 986894.2367963481|200780.54042725134|982065.7013854686|         18|        15|             2|\n",
            "|2024-01-26 14:49:43|2024-01-26 14:57:11|            1.0|            186|             107|                 N|          448| 211974.4462185665| 986345.3986004688|207721.84599820204|988669.5907152938|         14|        26|             6|\n",
            "|2024-01-25 21:26:48|2024-01-25 21:44:59|            1.0|            144|             164|                 N|         1091| 201915.7902757445| 985104.1485227022|212002.89303566894| 988362.833435725|         21|        25|             5|\n",
            "|2024-01-07 18:35:15|2024-01-07 19:04:12|            1.0|            132|              45|                 N|         1737|175062.67758486557|1043488.1868617043|198844.63611660182|984762.4692829204|         18|         7|             1|\n",
            "|2024-01-12 15:18:33|2024-01-12 15:38:11|            1.0|             43|             224|                 N|         1178|224356.21221165065| 993789.0096985319|205899.41753291615|990735.9403089168|         15|        12|             6|\n",
            "|2024-01-05 10:47:59|2024-01-05 10:54:55|            1.0|             79|             137|                 N|          416| 204368.5018753222| 988147.6579909977| 209039.3538898732| 990763.615736023|         10|         5|             6|\n",
            "|2024-01-07 11:37:55|2024-01-07 11:47:03|            1.0|             43|              48|                 N|          548|224356.21221165065| 993789.0096985319|216986.07003374878|987063.1857021254|         11|         7|             1|\n",
            "|2024-01-14 20:33:18|2024-01-14 20:38:31|            1.0|            262|             141|                 N|          313|  221974.400787808| 999064.7250824339| 218699.1927268597|995431.1975186545|         20|        14|             1|\n",
            "+-------------------+-------------------+---------------+---------------+----------------+------------------+-------------+------------------+------------------+------------------+-----------------+-----------+----------+--------------+\n",
            "only showing top 20 rows\n",
            "\n"
          ]
        }
      ]
    },
    {
      "cell_type": "code",
      "source": [
        "# Define features (X) and target (y)\n",
        "X = df.drop('trip_duration')\n",
        "y = df.select('trip_duration')\n"
      ],
      "metadata": {
        "id": "plfq21HKuCiS"
      },
      "execution_count": 7,
      "outputs": []
    },
    {
      "cell_type": "code",
      "source": [
        "# Split the dataset into training and testing sets\n",
        "train_data, test_data = df.randomSplit([0.8, 0.2], seed=42)"
      ],
      "metadata": {
        "id": "IlhJ6Llg1adU"
      },
      "execution_count": 8,
      "outputs": []
    },
    {
      "cell_type": "code",
      "source": [
        "from pyspark.sql.functions import col\n",
        "from pyspark.sql.types import TimestampType\n"
      ],
      "metadata": {
        "id": "ZEgiTDOF2bAH"
      },
      "execution_count": 9,
      "outputs": []
    },
    {
      "cell_type": "code",
      "source": [
        "train_data = train_data.withColumn('pickup_datetime', col('pickup_datetime').cast('timestamp'))\n",
        "test_data = test_data.withColumn('pickup_datetime', col('pickup_datetime').cast('timestamp'))\n"
      ],
      "metadata": {
        "id": "S1B59mbP11s7"
      },
      "execution_count": 10,
      "outputs": []
    },
    {
      "cell_type": "code",
      "source": [
        "from pyspark.ml.regression import RandomForestRegressor\n",
        "\n",
        "# Define the Random Forest model with the correct parameters\n",
        "rf = RandomForestRegressor(featuresCol='features', labelCol='trip_duration', numTrees=100)"
      ],
      "metadata": {
        "id": "66ViNPRGATnm"
      },
      "execution_count": 15,
      "outputs": []
    },
    {
      "cell_type": "code",
      "source": [
        "train_data.printSchema()\n"
      ],
      "metadata": {
        "colab": {
          "base_uri": "https://localhost:8080/"
        },
        "id": "64qxpv0b6Tdh",
        "outputId": "18a9eec1-48ae-47e5-ca82-ec42ae3a296d"
      },
      "execution_count": 16,
      "outputs": [
        {
          "output_type": "stream",
          "name": "stdout",
          "text": [
            "root\n",
            " |-- pickup_datetime: timestamp (nullable = true)\n",
            " |-- dropoff_datetime: string (nullable = true)\n",
            " |-- passenger_count: string (nullable = true)\n",
            " |-- pickup_location: string (nullable = true)\n",
            " |-- dropoff_location: string (nullable = true)\n",
            " |-- store_and_fwd_flag: string (nullable = true)\n",
            " |-- trip_duration: string (nullable = true)\n",
            " |-- pickup_latitude: string (nullable = true)\n",
            " |-- pickup_longitude: string (nullable = true)\n",
            " |-- dropoff_latitude: string (nullable = true)\n",
            " |-- dropoff_longitude: string (nullable = true)\n",
            " |-- pickup_hour: integer (nullable = true)\n",
            " |-- pickup_day: integer (nullable = true)\n",
            " |-- pickup_weekday: integer (nullable = true)\n",
            "\n"
          ]
        }
      ]
    },
    {
      "cell_type": "code",
      "source": [
        "from pyspark.ml.feature import VectorAssembler\n",
        "\n",
        "# Assemble features\n",
        "feature_columns = ['pickup_latitude', 'pickup_longitude', 'dropoff_latitude',\n",
        "                   'dropoff_longitude', 'pickup_hour', 'pickup_day', 'pickup_weekday']\n",
        "assembler = VectorAssembler(inputCols=feature_columns, outputCol='features')"
      ],
      "metadata": {
        "id": "3SrWbscC6Nge"
      },
      "execution_count": 17,
      "outputs": []
    },
    {
      "cell_type": "code",
      "source": [
        "from pyspark.sql.functions import col\n",
        "\n",
        "# List of feature columns to cast\n",
        "numeric_columns = ['pickup_latitude', 'pickup_longitude', 'dropoff_latitude', 'dropoff_longitude']\n"
      ],
      "metadata": {
        "id": "NRfOSotGAlC4"
      },
      "execution_count": 20,
      "outputs": []
    },
    {
      "cell_type": "code",
      "source": [
        "# Cast each column to double\n",
        "for column in numeric_columns:\n",
        "    train_data = train_data.withColumn(column, col(column).cast('double'))\n",
        "    test_data = test_data.withColumn(column, col(column).cast('double'))"
      ],
      "metadata": {
        "id": "hLhvP56_AnK6"
      },
      "execution_count": 21,
      "outputs": []
    },
    {
      "cell_type": "code",
      "source": [
        "# Transform the train and test datasets\n",
        "train_data = assembler.transform(train_data).select('features', 'trip_duration')\n",
        "test_data = assembler.transform(test_data).select('features', 'trip_duration')"
      ],
      "metadata": {
        "id": "yc7M3y_v6fem"
      },
      "execution_count": 22,
      "outputs": []
    },
    {
      "cell_type": "code",
      "source": [
        "train_data.select('features', 'trip_duration').show(5, truncate=False)\n"
      ],
      "metadata": {
        "colab": {
          "base_uri": "https://localhost:8080/"
        },
        "id": "HS-1L0gZ6gOE",
        "outputId": "a7b3b89b-8b56-4f2f-99e5-5e97c0c53c55"
      },
      "execution_count": 23,
      "outputs": [
        {
          "output_type": "stream",
          "name": "stdout",
          "text": [
            "+-----------------------------------------------------------------------------------------+-------------+\n",
            "|features                                                                                 |trip_duration|\n",
            "+-----------------------------------------------------------------------------------------+-------------+\n",
            "|[209708.74184834195,985089.2186553577,211948.91240008172,984272.7786326221,23.0,31.0,1.0]|163          |\n",
            "|[223613.7535760244,996155.3867656847,221132.7753491493,989365.0684741095,23.0,31.0,1.0]  |920          |\n",
            "|[218166.4343533099,996787.6630546569,218166.4343533099,996787.6630546569,0.0,1.0,2.0]    |169          |\n",
            "|[203883.8201161869,982175.1477564898,203062.48265449997,1011322.0566218888,0.0,1.0,2.0]  |1348         |\n",
            "|[214975.36687718582,993906.1723071609,183512.2660660261,989405.7462567874,0.0,1.0,2.0]   |1172         |\n",
            "+-----------------------------------------------------------------------------------------+-------------+\n",
            "only showing top 5 rows\n",
            "\n"
          ]
        }
      ]
    },
    {
      "cell_type": "code",
      "source": [
        "from pyspark.sql.functions import col\n",
        "\n",
        "# Cast trip_duration as double\n",
        "train_data = train_data.withColumn('trip_duration', col('trip_duration').cast('double'))\n",
        "test_data = test_data.withColumn('trip_duration', col('trip_duration').cast('double'))"
      ],
      "metadata": {
        "id": "8YsTFUmtA4B0"
      },
      "execution_count": 27,
      "outputs": []
    },
    {
      "cell_type": "code",
      "source": [
        "model = rf.fit(train_data)\n"
      ],
      "metadata": {
        "id": "xmDuDPXk6nbH"
      },
      "execution_count": 28,
      "outputs": []
    },
    {
      "cell_type": "code",
      "source": [
        "# Make Predictions\n",
        "predictions = model.transform(test_data)"
      ],
      "metadata": {
        "id": "690usrph6q2R"
      },
      "execution_count": 29,
      "outputs": []
    },
    {
      "cell_type": "code",
      "source": [
        "from pyspark.ml.evaluation import RegressionEvaluator\n",
        "\n",
        "# Evaluate the Model\n",
        "evaluator = RegressionEvaluator(labelCol='trip_duration', predictionCol='prediction', metricName='rmse')\n",
        "rmse = evaluator.evaluate(predictions)\n",
        "mae = evaluator.evaluate(predictions, {evaluator.metricName: \"mae\"})"
      ],
      "metadata": {
        "id": "7giXsLmL8T6S"
      },
      "execution_count": 33,
      "outputs": []
    },
    {
      "cell_type": "code",
      "source": [
        "print(f\"Root Mean Squared Error (RMSE): {rmse}\")\n",
        "print(f\"Mean Absolute Error (MAE): {mae}\")\n"
      ],
      "metadata": {
        "colab": {
          "base_uri": "https://localhost:8080/"
        },
        "id": "nqovJar_856A",
        "outputId": "dd17e52f-f31a-4b15-8235-a6efe207a16f"
      },
      "execution_count": 34,
      "outputs": [
        {
          "output_type": "stream",
          "name": "stdout",
          "text": [
            "Root Mean Squared Error (RMSE): 2078.7378940637095\n",
            "Mean Absolute Error (MAE): 410.6028743065651\n"
          ]
        }
      ]
    },
    {
      "cell_type": "code",
      "source": [
        "import matplotlib.pyplot as plt\n",
        "\n",
        "# Convert predictions to pandas for visualization\n",
        "predictions_pandas = predictions.select('trip_duration', 'prediction').toPandas()\n",
        "predictions_pandas.head()"
      ],
      "metadata": {
        "colab": {
          "base_uri": "https://localhost:8080/",
          "height": 206
        },
        "id": "mar8pAG7CyKW",
        "outputId": "56b7574b-5f01-4a95-b8d3-e2d604c2fd65"
      },
      "execution_count": 36,
      "outputs": [
        {
          "output_type": "execute_result",
          "data": {
            "text/plain": [
              "   trip_duration   prediction\n",
              "0          600.0   739.855816\n",
              "1         1680.0  1565.118403\n",
              "2          781.0   973.633131\n",
              "3         1455.0  1694.396587\n",
              "4         1585.0  1812.605058"
            ],
            "text/html": [
              "\n",
              "  <div id=\"df-b0d71798-9b8a-4d5a-b22f-4badeae4e1fe\" class=\"colab-df-container\">\n",
              "    <div>\n",
              "<style scoped>\n",
              "    .dataframe tbody tr th:only-of-type {\n",
              "        vertical-align: middle;\n",
              "    }\n",
              "\n",
              "    .dataframe tbody tr th {\n",
              "        vertical-align: top;\n",
              "    }\n",
              "\n",
              "    .dataframe thead th {\n",
              "        text-align: right;\n",
              "    }\n",
              "</style>\n",
              "<table border=\"1\" class=\"dataframe\">\n",
              "  <thead>\n",
              "    <tr style=\"text-align: right;\">\n",
              "      <th></th>\n",
              "      <th>trip_duration</th>\n",
              "      <th>prediction</th>\n",
              "    </tr>\n",
              "  </thead>\n",
              "  <tbody>\n",
              "    <tr>\n",
              "      <th>0</th>\n",
              "      <td>600.0</td>\n",
              "      <td>739.855816</td>\n",
              "    </tr>\n",
              "    <tr>\n",
              "      <th>1</th>\n",
              "      <td>1680.0</td>\n",
              "      <td>1565.118403</td>\n",
              "    </tr>\n",
              "    <tr>\n",
              "      <th>2</th>\n",
              "      <td>781.0</td>\n",
              "      <td>973.633131</td>\n",
              "    </tr>\n",
              "    <tr>\n",
              "      <th>3</th>\n",
              "      <td>1455.0</td>\n",
              "      <td>1694.396587</td>\n",
              "    </tr>\n",
              "    <tr>\n",
              "      <th>4</th>\n",
              "      <td>1585.0</td>\n",
              "      <td>1812.605058</td>\n",
              "    </tr>\n",
              "  </tbody>\n",
              "</table>\n",
              "</div>\n",
              "    <div class=\"colab-df-buttons\">\n",
              "\n",
              "  <div class=\"colab-df-container\">\n",
              "    <button class=\"colab-df-convert\" onclick=\"convertToInteractive('df-b0d71798-9b8a-4d5a-b22f-4badeae4e1fe')\"\n",
              "            title=\"Convert this dataframe to an interactive table.\"\n",
              "            style=\"display:none;\">\n",
              "\n",
              "  <svg xmlns=\"http://www.w3.org/2000/svg\" height=\"24px\" viewBox=\"0 -960 960 960\">\n",
              "    <path d=\"M120-120v-720h720v720H120Zm60-500h600v-160H180v160Zm220 220h160v-160H400v160Zm0 220h160v-160H400v160ZM180-400h160v-160H180v160Zm440 0h160v-160H620v160ZM180-180h160v-160H180v160Zm440 0h160v-160H620v160Z\"/>\n",
              "  </svg>\n",
              "    </button>\n",
              "\n",
              "  <style>\n",
              "    .colab-df-container {\n",
              "      display:flex;\n",
              "      gap: 12px;\n",
              "    }\n",
              "\n",
              "    .colab-df-convert {\n",
              "      background-color: #E8F0FE;\n",
              "      border: none;\n",
              "      border-radius: 50%;\n",
              "      cursor: pointer;\n",
              "      display: none;\n",
              "      fill: #1967D2;\n",
              "      height: 32px;\n",
              "      padding: 0 0 0 0;\n",
              "      width: 32px;\n",
              "    }\n",
              "\n",
              "    .colab-df-convert:hover {\n",
              "      background-color: #E2EBFA;\n",
              "      box-shadow: 0px 1px 2px rgba(60, 64, 67, 0.3), 0px 1px 3px 1px rgba(60, 64, 67, 0.15);\n",
              "      fill: #174EA6;\n",
              "    }\n",
              "\n",
              "    .colab-df-buttons div {\n",
              "      margin-bottom: 4px;\n",
              "    }\n",
              "\n",
              "    [theme=dark] .colab-df-convert {\n",
              "      background-color: #3B4455;\n",
              "      fill: #D2E3FC;\n",
              "    }\n",
              "\n",
              "    [theme=dark] .colab-df-convert:hover {\n",
              "      background-color: #434B5C;\n",
              "      box-shadow: 0px 1px 3px 1px rgba(0, 0, 0, 0.15);\n",
              "      filter: drop-shadow(0px 1px 2px rgba(0, 0, 0, 0.3));\n",
              "      fill: #FFFFFF;\n",
              "    }\n",
              "  </style>\n",
              "\n",
              "    <script>\n",
              "      const buttonEl =\n",
              "        document.querySelector('#df-b0d71798-9b8a-4d5a-b22f-4badeae4e1fe button.colab-df-convert');\n",
              "      buttonEl.style.display =\n",
              "        google.colab.kernel.accessAllowed ? 'block' : 'none';\n",
              "\n",
              "      async function convertToInteractive(key) {\n",
              "        const element = document.querySelector('#df-b0d71798-9b8a-4d5a-b22f-4badeae4e1fe');\n",
              "        const dataTable =\n",
              "          await google.colab.kernel.invokeFunction('convertToInteractive',\n",
              "                                                    [key], {});\n",
              "        if (!dataTable) return;\n",
              "\n",
              "        const docLinkHtml = 'Like what you see? Visit the ' +\n",
              "          '<a target=\"_blank\" href=https://colab.research.google.com/notebooks/data_table.ipynb>data table notebook</a>'\n",
              "          + ' to learn more about interactive tables.';\n",
              "        element.innerHTML = '';\n",
              "        dataTable['output_type'] = 'display_data';\n",
              "        await google.colab.output.renderOutput(dataTable, element);\n",
              "        const docLink = document.createElement('div');\n",
              "        docLink.innerHTML = docLinkHtml;\n",
              "        element.appendChild(docLink);\n",
              "      }\n",
              "    </script>\n",
              "  </div>\n",
              "\n",
              "\n",
              "<div id=\"df-f57ca5fb-d030-4b86-91a9-c8de3977e19c\">\n",
              "  <button class=\"colab-df-quickchart\" onclick=\"quickchart('df-f57ca5fb-d030-4b86-91a9-c8de3977e19c')\"\n",
              "            title=\"Suggest charts\"\n",
              "            style=\"display:none;\">\n",
              "\n",
              "<svg xmlns=\"http://www.w3.org/2000/svg\" height=\"24px\"viewBox=\"0 0 24 24\"\n",
              "     width=\"24px\">\n",
              "    <g>\n",
              "        <path d=\"M19 3H5c-1.1 0-2 .9-2 2v14c0 1.1.9 2 2 2h14c1.1 0 2-.9 2-2V5c0-1.1-.9-2-2-2zM9 17H7v-7h2v7zm4 0h-2V7h2v10zm4 0h-2v-4h2v4z\"/>\n",
              "    </g>\n",
              "</svg>\n",
              "  </button>\n",
              "\n",
              "<style>\n",
              "  .colab-df-quickchart {\n",
              "      --bg-color: #E8F0FE;\n",
              "      --fill-color: #1967D2;\n",
              "      --hover-bg-color: #E2EBFA;\n",
              "      --hover-fill-color: #174EA6;\n",
              "      --disabled-fill-color: #AAA;\n",
              "      --disabled-bg-color: #DDD;\n",
              "  }\n",
              "\n",
              "  [theme=dark] .colab-df-quickchart {\n",
              "      --bg-color: #3B4455;\n",
              "      --fill-color: #D2E3FC;\n",
              "      --hover-bg-color: #434B5C;\n",
              "      --hover-fill-color: #FFFFFF;\n",
              "      --disabled-bg-color: #3B4455;\n",
              "      --disabled-fill-color: #666;\n",
              "  }\n",
              "\n",
              "  .colab-df-quickchart {\n",
              "    background-color: var(--bg-color);\n",
              "    border: none;\n",
              "    border-radius: 50%;\n",
              "    cursor: pointer;\n",
              "    display: none;\n",
              "    fill: var(--fill-color);\n",
              "    height: 32px;\n",
              "    padding: 0;\n",
              "    width: 32px;\n",
              "  }\n",
              "\n",
              "  .colab-df-quickchart:hover {\n",
              "    background-color: var(--hover-bg-color);\n",
              "    box-shadow: 0 1px 2px rgba(60, 64, 67, 0.3), 0 1px 3px 1px rgba(60, 64, 67, 0.15);\n",
              "    fill: var(--button-hover-fill-color);\n",
              "  }\n",
              "\n",
              "  .colab-df-quickchart-complete:disabled,\n",
              "  .colab-df-quickchart-complete:disabled:hover {\n",
              "    background-color: var(--disabled-bg-color);\n",
              "    fill: var(--disabled-fill-color);\n",
              "    box-shadow: none;\n",
              "  }\n",
              "\n",
              "  .colab-df-spinner {\n",
              "    border: 2px solid var(--fill-color);\n",
              "    border-color: transparent;\n",
              "    border-bottom-color: var(--fill-color);\n",
              "    animation:\n",
              "      spin 1s steps(1) infinite;\n",
              "  }\n",
              "\n",
              "  @keyframes spin {\n",
              "    0% {\n",
              "      border-color: transparent;\n",
              "      border-bottom-color: var(--fill-color);\n",
              "      border-left-color: var(--fill-color);\n",
              "    }\n",
              "    20% {\n",
              "      border-color: transparent;\n",
              "      border-left-color: var(--fill-color);\n",
              "      border-top-color: var(--fill-color);\n",
              "    }\n",
              "    30% {\n",
              "      border-color: transparent;\n",
              "      border-left-color: var(--fill-color);\n",
              "      border-top-color: var(--fill-color);\n",
              "      border-right-color: var(--fill-color);\n",
              "    }\n",
              "    40% {\n",
              "      border-color: transparent;\n",
              "      border-right-color: var(--fill-color);\n",
              "      border-top-color: var(--fill-color);\n",
              "    }\n",
              "    60% {\n",
              "      border-color: transparent;\n",
              "      border-right-color: var(--fill-color);\n",
              "    }\n",
              "    80% {\n",
              "      border-color: transparent;\n",
              "      border-right-color: var(--fill-color);\n",
              "      border-bottom-color: var(--fill-color);\n",
              "    }\n",
              "    90% {\n",
              "      border-color: transparent;\n",
              "      border-bottom-color: var(--fill-color);\n",
              "    }\n",
              "  }\n",
              "</style>\n",
              "\n",
              "  <script>\n",
              "    async function quickchart(key) {\n",
              "      const quickchartButtonEl =\n",
              "        document.querySelector('#' + key + ' button');\n",
              "      quickchartButtonEl.disabled = true;  // To prevent multiple clicks.\n",
              "      quickchartButtonEl.classList.add('colab-df-spinner');\n",
              "      try {\n",
              "        const charts = await google.colab.kernel.invokeFunction(\n",
              "            'suggestCharts', [key], {});\n",
              "      } catch (error) {\n",
              "        console.error('Error during call to suggestCharts:', error);\n",
              "      }\n",
              "      quickchartButtonEl.classList.remove('colab-df-spinner');\n",
              "      quickchartButtonEl.classList.add('colab-df-quickchart-complete');\n",
              "    }\n",
              "    (() => {\n",
              "      let quickchartButtonEl =\n",
              "        document.querySelector('#df-f57ca5fb-d030-4b86-91a9-c8de3977e19c button');\n",
              "      quickchartButtonEl.style.display =\n",
              "        google.colab.kernel.accessAllowed ? 'block' : 'none';\n",
              "    })();\n",
              "  </script>\n",
              "</div>\n",
              "\n",
              "    </div>\n",
              "  </div>\n"
            ],
            "application/vnd.google.colaboratory.intrinsic+json": {
              "type": "dataframe",
              "variable_name": "predictions_pandas"
            }
          },
          "metadata": {},
          "execution_count": 36
        }
      ]
    },
    {
      "cell_type": "code",
      "source": [
        "# Plot Actual vs. Predicted trip duration\n",
        "plt.figure(figsize=(10, 6))\n",
        "plt.scatter(predictions_pandas['trip_duration'], predictions_pandas['prediction'], alpha=0.5, label='Data Points')\n",
        "plt.plot([0, predictions_pandas['trip_duration'].max()],\n",
        "         [0, predictions_pandas['trip_duration'].max()], color='red', linestyle='--', label='Ideal Fit')\n",
        "plt.title('Actual vs Predicted Trip Duration')\n",
        "plt.xlabel('Actual Trip Duration (seconds)')\n",
        "plt.ylabel('Predicted Trip Duration (seconds)')\n",
        "plt.legend()\n",
        "plt.grid()\n",
        "plt.show()"
      ],
      "metadata": {
        "colab": {
          "base_uri": "https://localhost:8080/",
          "height": 448
        },
        "id": "BOS-IfO6C0jv",
        "outputId": "6c2616b6-57b5-47ed-aba0-f610664e9888"
      },
      "execution_count": 37,
      "outputs": [
        {
          "output_type": "display_data",
          "data": {
            "text/plain": [
              "<Figure size 1000x600 with 1 Axes>"
            ],
            "image/png": "[encoded data removed]"
          },
          "metadata": {}
        }
      ]
    },
    {
      "cell_type": "code",
      "source": [
        "from pyspark.ml.regression import LinearRegression\n",
        "\n",
        "# Define the Linear Regression model\n",
        "lr = LinearRegression(featuresCol='features', labelCol='trip_duration')"
      ],
      "metadata": {
        "id": "ksG_EEElDor-"
      },
      "execution_count": 38,
      "outputs": []
    },
    {
      "cell_type": "code",
      "source": [
        "# Train the model\n",
        "linear_model = lr.fit(train_data)"
      ],
      "metadata": {
        "id": "zRfMMzr-Dqni"
      },
      "execution_count": 39,
      "outputs": []
    },
    {
      "cell_type": "code",
      "source": [
        "# Make predictions\n",
        "linear_predictions = linear_model.transform(test_data)"
      ],
      "metadata": {
        "id": "JUqRXCloD86S"
      },
      "execution_count": 40,
      "outputs": []
    },
    {
      "cell_type": "code",
      "source": [
        "# Evaluate the model\n",
        "lr_rmse = evaluator.evaluate(linear_predictions)\n",
        "lr_mae = evaluator.evaluate(linear_predictions, {evaluator.metricName: \"mae\"})\n",
        "\n",
        "print(f\"Linear Regression - Root Mean Squared Error (RMSE): {lr_rmse}\")\n",
        "print(f\"Linear Regression - Mean Absolute Error (MAE): {lr_mae}\")"
      ],
      "metadata": {
        "colab": {
          "base_uri": "https://localhost:8080/"
        },
        "id": "sXWkFMwLD_nl",
        "outputId": "5d25612d-a85b-4737-ce14-5eb313249a78"
      },
      "execution_count": 41,
      "outputs": [
        {
          "output_type": "stream",
          "name": "stdout",
          "text": [
            "Linear Regression - Root Mean Squared Error (RMSE): 2113.4881274584036\n",
            "Linear Regression - Mean Absolute Error (MAE): 491.0751084747566\n"
          ]
        }
      ]
    }
  ]
}