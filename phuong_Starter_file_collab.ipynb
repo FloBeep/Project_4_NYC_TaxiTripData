{
  "nbformat": 4,
  "nbformat_minor": 0,
  "metadata": {
    "colab": {
      "provenance": []
    },
    "kernelspec": {
      "name": "python3",
      "display_name": "Python 3"
    },
    "language_info": {
      "name": "python"
    }
  },
  "cells": [
    {
      "cell_type": "code",
      "execution_count": 1,
      "metadata": {
        "colab": {
          "base_uri": "https://localhost:8080/"
        },
        "id": "eSxOuvZ_7pHF",
        "outputId": "80dec16f-9b5b-44c8-bf67-d9074b7fcdce"
      },
      "outputs": [
        {
          "output_type": "stream",
          "name": "stdout",
          "text": [
            "\r0% [Working]\r            \rHit:1 http://security.ubuntu.com/ubuntu jammy-security InRelease\n",
            "\r0% [Connecting to archive.ubuntu.com (185.125.190.81)] [Connected to cloud.r-project.org (18.154.101\r                                                                                                    \rHit:2 https://developer.download.nvidia.com/compute/cuda/repos/ubuntu2204/x86_64  InRelease\n",
            "Hit:3 https://cloud.r-project.org/bin/linux/ubuntu jammy-cran40/ InRelease\n",
            "Hit:4 https://r2u.stat.illinois.edu/ubuntu jammy InRelease\n",
            "Hit:5 http://archive.ubuntu.com/ubuntu jammy InRelease\n",
            "Hit:6 http://archive.ubuntu.com/ubuntu jammy-updates InRelease\n",
            "Hit:7 http://archive.ubuntu.com/ubuntu jammy-backports InRelease\n",
            "Hit:8 https://ppa.launchpadcontent.net/deadsnakes/ppa/ubuntu jammy InRelease\n",
            "Hit:9 https://ppa.launchpadcontent.net/graphics-drivers/ppa/ubuntu jammy InRelease\n",
            "Hit:10 https://ppa.launchpadcontent.net/ubuntugis/ppa/ubuntu jammy InRelease\n",
            "Reading package lists... Done\n",
            "W: Skipping acquire of configured file 'main/source/Sources' as repository 'https://r2u.stat.illinois.edu/ubuntu jammy InRelease' does not seem to provide it (sources.list entry misspelt?)\n"
          ]
        }
      ],
      "source": [
        "import os\n",
        "# Find the latest version of spark 3.x  from http://www.apache.org/dist/spark/ and enter as the spark version\n",
        "# For example:\n",
        "# spark_version = 'spark-3.4.0'\n",
        "spark_version = 'spark-3.4.4'\n",
        "os.environ['SPARK_VERSION']=spark_version\n",
        "\n",
        "# Install Spark and Java\n",
        "!apt-get update\n",
        "!apt-get install openjdk-11-jdk-headless -qq > /dev/null\n",
        "!wget -q http://www.apache.org/dist/spark/$SPARK_VERSION/$SPARK_VERSION-bin-hadoop3.tgz\n",
        "!tar xf $SPARK_VERSION-bin-hadoop3.tgz\n",
        "!pip install -q findspark\n",
        "\n",
        "# Set Environment Variables\n",
        "os.environ[\"JAVA_HOME\"] = \"/usr/lib/jvm/java-11-openjdk-amd64\"\n",
        "os.environ[\"SPARK_HOME\"] = f\"/content/{spark_version}-bin-hadoop3\"\n",
        "\n",
        "# Start a SparkSession\n",
        "import findspark\n",
        "findspark.init()"
      ]
    },
    {
      "cell_type": "code",
      "source": [
        "# Import packages\n",
        "from pyspark.sql import SparkSession\n",
        "import time\n",
        "\n",
        "# Create a SparkSession\n",
        "spark = SparkSession.builder.appName(\"SparkSQL\").getOrCreate()"
      ],
      "metadata": {
        "id": "8t_rFi3U7tCq"
      },
      "execution_count": 2,
      "outputs": []
    },
    {
      "cell_type": "code",
      "source": [
        "# Read in data from S3 Bucket\n",
        "import pandas as pd\n",
        "from pyspark.sql import SparkSession\n",
        "\n",
        "# Initialize SparkSession\n",
        "spark = SparkSession.builder \\\n",
        "    .appName(\"NYC Taxi Data Analysis\") \\\n",
        "    .getOrCreate()\n",
        "\n",
        "# URL of the CSV file\n",
        "data_url = \"https://project4-nyctaxi.s3.us-east-1.amazonaws.com/train.csv\"\n",
        "\n",
        "# Download the file using Pandas\n",
        "local_file = \"train.csv\"\n",
        "pd.read_csv(data_url).to_csv(local_file, index=False)\n",
        "\n",
        "# Read the local file into a Spark DataFrame\n",
        "df = spark.read.csv(local_file, header=True, inferSchema=True)\n",
        "\n",
        "# Show the DataFrame\n",
        "df.show()"
      ],
      "metadata": {
        "id": "-l9_nGTF7wRk",
        "colab": {
          "base_uri": "https://localhost:8080/"
        },
        "outputId": "30b2b443-1052-4494-8170-59d0026185d1"
      },
      "execution_count": 3,
      "outputs": [
        {
          "output_type": "stream",
          "name": "stdout",
          "text": [
            "+---------+---------+-------------------+-------------------+---------------+------------------+------------------+------------------+------------------+------------------+-------------+\n",
            "|       id|vendor_id|    pickup_datetime|   dropoff_datetime|passenger_count|  pickup_longitude|   pickup_latitude| dropoff_longitude|  dropoff_latitude|store_and_fwd_flag|trip_duration|\n",
            "+---------+---------+-------------------+-------------------+---------------+------------------+------------------+------------------+------------------+------------------+-------------+\n",
            "|id2875421|        2|2016-03-14 17:24:55|2016-03-14 17:32:30|              1|-73.98215484619139| 40.76793670654297|-73.96463012695312|40.765602111816406|                 N|          455|\n",
            "|id2377394|        1|2016-06-12 00:43:35|2016-06-12 00:54:38|              1|-73.98041534423827|40.738563537597656|-73.99948120117188|40.731151580810554|                 N|          663|\n",
            "|id3858529|        2|2016-01-19 11:35:24|2016-01-19 12:10:48|              1|-73.97902679443358|40.763938903808594|-74.00533294677734|40.710086822509766|                 N|         2124|\n",
            "|id3504673|        2|2016-04-06 19:32:31|2016-04-06 19:39:40|              1|-74.01004028320312|   40.719970703125|-74.01226806640625| 40.70671844482422|                 N|          429|\n",
            "|id2181028|        2|2016-03-26 13:30:55|2016-03-26 13:38:10|              1|-73.97305297851561| 40.79320907592773| -73.9729232788086|40.782520294189446|                 N|          435|\n",
            "|id0801584|        2|2016-01-30 22:01:40|2016-01-30 22:09:03|              6|-73.98285675048828| 40.74219512939453|-73.99208068847656| 40.74918365478516|                 N|          443|\n",
            "|id1813257|        1|2016-06-17 22:34:59|2016-06-17 22:40:40|              4| -73.9690170288086| 40.75783920288086|-73.95740509033203| 40.76589584350586|                 N|          341|\n",
            "|id1324603|        2|2016-05-21 07:54:58|2016-05-21 08:20:49|              1|-73.96927642822266| 40.79777908325195|-73.92247009277344| 40.76055908203125|                 N|         1551|\n",
            "|id1301050|        1|2016-05-27 23:12:23|2016-05-27 23:16:38|              1|-73.99948120117188|40.738399505615234|-73.98578643798828| 40.73281478881836|                 N|          255|\n",
            "|id0012891|        2|2016-03-10 21:45:01|2016-03-10 22:05:26|              1|-73.98104858398438|40.744338989257805| -73.9729995727539| 40.78998947143555|                 N|         1225|\n",
            "|id1436371|        2|2016-05-10 22:08:41|2016-05-10 22:29:55|              1|-73.98265075683594| 40.76383972167969|-74.00222778320312| 40.73299026489258|                 N|         1274|\n",
            "|id1299289|        2|2016-05-15 11:16:11|2016-05-15 11:34:59|              4| -73.9915313720703| 40.74943923950195|   -73.95654296875|  40.7706298828125|                 N|         1128|\n",
            "|id1187965|        2|2016-02-19 09:52:46|2016-02-19 10:11:20|              2|-73.96298217773438|  40.7566795349121|-73.98440551757811|40.760719299316406|                 N|         1114|\n",
            "|id0799785|        2|2016-06-01 20:58:29|2016-06-01 21:02:49|              1|-73.95630645751953| 40.76794052124024|-73.96611022949219| 40.76300048828125|                 N|          260|\n",
            "|id2900608|        2|2016-05-27 00:43:36|2016-05-27 01:07:10|              1|-73.99219512939453| 40.72722625732422| -73.9746551513672|40.783069610595696|                 N|         1414|\n",
            "|id3319787|        1|2016-05-16 15:29:02|2016-05-16 15:32:33|              1|-73.95551300048828|40.768592834472656|-73.94876098632812| 40.77154541015625|                 N|          211|\n",
            "|id3379579|        2|2016-04-11 17:29:50|2016-04-11 18:08:26|              1|-73.99116516113281| 40.75556182861328| -73.9992904663086|  40.7253532409668|                 N|         2316|\n",
            "|id1154431|        1|2016-04-14 08:48:26|2016-04-14 09:00:37|              1|-73.99425506591797|40.745803833007805| -73.9996566772461|40.723342895507805|                 N|          731|\n",
            "|id3552682|        1|2016-06-27 09:55:13|2016-06-27 10:17:10|              1|-74.00398254394531|  40.7130126953125|-73.97919464111328| 40.74992370605469|                 N|         1317|\n",
            "|id3390316|        2|2016-06-05 13:47:23|2016-06-05 13:51:34|              1|   -73.98388671875| 40.73819732666016|-73.99120330810547|  40.7278709411621|                 N|          251|\n",
            "+---------+---------+-------------------+-------------------+---------------+------------------+------------------+------------------+------------------+------------------+-------------+\n",
            "only showing top 20 rows\n",
            "\n"
          ]
        }
      ]
    },
    {
      "cell_type": "code",
      "source": [
        "# Import necessary libraries\n",
        "import pandas as pd\n",
        "from sklearn.model_selection import train_test_split\n",
        "from sklearn.ensemble import RandomForestRegressor\n",
        "from sklearn.metrics import mean_absolute_error, mean_squared_error\n",
        "import numpy as np\n"
      ],
      "metadata": {
        "id": "-_39kcKhthps"
      },
      "execution_count": 4,
      "outputs": []
    },
    {
      "cell_type": "code",
      "source": [
        "from pyspark.sql.functions import col, hour, dayofmonth, dayofweek, to_timestamp\n",
        "\n",
        "# Convert pickup_datetime to a timestamp\n",
        "df = df.withColumn('pickup_datetime', to_timestamp(col('pickup_datetime')))\n",
        "\n",
        "# Extract time-based features\n",
        "df = df.withColumn('pickup_hour', hour(col('pickup_datetime')))\n",
        "df = df.withColumn('pickup_day', dayofmonth(col('pickup_datetime')))\n",
        "df = df.withColumn('pickup_weekday', dayofweek(col('pickup_datetime')))\n",
        "\n",
        "# Show the updated DataFrame\n",
        "df.show()\n"
      ],
      "metadata": {
        "colab": {
          "base_uri": "https://localhost:8080/"
        },
        "id": "Tv1KtaH6tsZa",
        "outputId": "37047634-b5b9-4f38-c6c8-c08bfa7ea50f"
      },
      "execution_count": 5,
      "outputs": [
        {
          "output_type": "stream",
          "name": "stdout",
          "text": [
            "+---------+---------+-------------------+-------------------+---------------+------------------+------------------+------------------+------------------+------------------+-------------+-----------+----------+--------------+\n",
            "|       id|vendor_id|    pickup_datetime|   dropoff_datetime|passenger_count|  pickup_longitude|   pickup_latitude| dropoff_longitude|  dropoff_latitude|store_and_fwd_flag|trip_duration|pickup_hour|pickup_day|pickup_weekday|\n",
            "+---------+---------+-------------------+-------------------+---------------+------------------+------------------+------------------+------------------+------------------+-------------+-----------+----------+--------------+\n",
            "|id2875421|        2|2016-03-14 17:24:55|2016-03-14 17:32:30|              1|-73.98215484619139| 40.76793670654297|-73.96463012695312|40.765602111816406|                 N|          455|         17|        14|             2|\n",
            "|id2377394|        1|2016-06-12 00:43:35|2016-06-12 00:54:38|              1|-73.98041534423827|40.738563537597656|-73.99948120117188|40.731151580810554|                 N|          663|          0|        12|             1|\n",
            "|id3858529|        2|2016-01-19 11:35:24|2016-01-19 12:10:48|              1|-73.97902679443358|40.763938903808594|-74.00533294677734|40.710086822509766|                 N|         2124|         11|        19|             3|\n",
            "|id3504673|        2|2016-04-06 19:32:31|2016-04-06 19:39:40|              1|-74.01004028320312|   40.719970703125|-74.01226806640625| 40.70671844482422|                 N|          429|         19|         6|             4|\n",
            "|id2181028|        2|2016-03-26 13:30:55|2016-03-26 13:38:10|              1|-73.97305297851561| 40.79320907592773| -73.9729232788086|40.782520294189446|                 N|          435|         13|        26|             7|\n",
            "|id0801584|        2|2016-01-30 22:01:40|2016-01-30 22:09:03|              6|-73.98285675048828| 40.74219512939453|-73.99208068847656| 40.74918365478516|                 N|          443|         22|        30|             7|\n",
            "|id1813257|        1|2016-06-17 22:34:59|2016-06-17 22:40:40|              4| -73.9690170288086| 40.75783920288086|-73.95740509033203| 40.76589584350586|                 N|          341|         22|        17|             6|\n",
            "|id1324603|        2|2016-05-21 07:54:58|2016-05-21 08:20:49|              1|-73.96927642822266| 40.79777908325195|-73.92247009277344| 40.76055908203125|                 N|         1551|          7|        21|             7|\n",
            "|id1301050|        1|2016-05-27 23:12:23|2016-05-27 23:16:38|              1|-73.99948120117188|40.738399505615234|-73.98578643798828| 40.73281478881836|                 N|          255|         23|        27|             6|\n",
            "|id0012891|        2|2016-03-10 21:45:01|2016-03-10 22:05:26|              1|-73.98104858398438|40.744338989257805| -73.9729995727539| 40.78998947143555|                 N|         1225|         21|        10|             5|\n",
            "|id1436371|        2|2016-05-10 22:08:41|2016-05-10 22:29:55|              1|-73.98265075683594| 40.76383972167969|-74.00222778320312| 40.73299026489258|                 N|         1274|         22|        10|             3|\n",
            "|id1299289|        2|2016-05-15 11:16:11|2016-05-15 11:34:59|              4| -73.9915313720703| 40.74943923950195|   -73.95654296875|  40.7706298828125|                 N|         1128|         11|        15|             1|\n",
            "|id1187965|        2|2016-02-19 09:52:46|2016-02-19 10:11:20|              2|-73.96298217773438|  40.7566795349121|-73.98440551757811|40.760719299316406|                 N|         1114|          9|        19|             6|\n",
            "|id0799785|        2|2016-06-01 20:58:29|2016-06-01 21:02:49|              1|-73.95630645751953| 40.76794052124024|-73.96611022949219| 40.76300048828125|                 N|          260|         20|         1|             4|\n",
            "|id2900608|        2|2016-05-27 00:43:36|2016-05-27 01:07:10|              1|-73.99219512939453| 40.72722625732422| -73.9746551513672|40.783069610595696|                 N|         1414|          0|        27|             6|\n",
            "|id3319787|        1|2016-05-16 15:29:02|2016-05-16 15:32:33|              1|-73.95551300048828|40.768592834472656|-73.94876098632812| 40.77154541015625|                 N|          211|         15|        16|             2|\n",
            "|id3379579|        2|2016-04-11 17:29:50|2016-04-11 18:08:26|              1|-73.99116516113281| 40.75556182861328| -73.9992904663086|  40.7253532409668|                 N|         2316|         17|        11|             2|\n",
            "|id1154431|        1|2016-04-14 08:48:26|2016-04-14 09:00:37|              1|-73.99425506591797|40.745803833007805| -73.9996566772461|40.723342895507805|                 N|          731|          8|        14|             5|\n",
            "|id3552682|        1|2016-06-27 09:55:13|2016-06-27 10:17:10|              1|-74.00398254394531|  40.7130126953125|-73.97919464111328| 40.74992370605469|                 N|         1317|          9|        27|             2|\n",
            "|id3390316|        2|2016-06-05 13:47:23|2016-06-05 13:51:34|              1|   -73.98388671875| 40.73819732666016|-73.99120330810547|  40.7278709411621|                 N|          251|         13|         5|             1|\n",
            "+---------+---------+-------------------+-------------------+---------------+------------------+------------------+------------------+------------------+------------------+-------------+-----------+----------+--------------+\n",
            "only showing top 20 rows\n",
            "\n"
          ]
        }
      ]
    },
    {
      "cell_type": "code",
      "source": [
        "# Define features (X) and target (y)\n",
        "X = df.drop('trip_duration')\n",
        "y = df.select('trip_duration')\n"
      ],
      "metadata": {
        "id": "plfq21HKuCiS"
      },
      "execution_count": 6,
      "outputs": []
    },
    {
      "cell_type": "code",
      "source": [
        "# Split the dataset into training and testing sets\n",
        "train_data, test_data = df.randomSplit([0.8, 0.2], seed=42)"
      ],
      "metadata": {
        "id": "IlhJ6Llg1adU"
      },
      "execution_count": 7,
      "outputs": []
    },
    {
      "cell_type": "code",
      "source": [
        "from pyspark.sql.functions import col\n",
        "from pyspark.sql.types import TimestampType\n"
      ],
      "metadata": {
        "id": "ZEgiTDOF2bAH"
      },
      "execution_count": 8,
      "outputs": []
    },
    {
      "cell_type": "code",
      "source": [
        "train_data = train_data.withColumn('pickup_datetime', col('pickup_datetime').cast('timestamp'))\n",
        "test_data = test_data.withColumn('pickup_datetime', col('pickup_datetime').cast('timestamp'))\n"
      ],
      "metadata": {
        "id": "S1B59mbP11s7"
      },
      "execution_count": 9,
      "outputs": []
    },
    {
      "cell_type": "code",
      "source": [
        "from pyspark.ml.regression import RandomForestRegressor\n",
        "\n",
        "# Define the Random Forest model with the correct parameters\n",
        "rf = RandomForestRegressor(featuresCol='features', labelCol='trip_duration', numTrees=100)"
      ],
      "metadata": {
        "id": "66ViNPRGATnm"
      },
      "execution_count": 10,
      "outputs": []
    },
    {
      "cell_type": "code",
      "source": [
        "train_data.printSchema()\n"
      ],
      "metadata": {
        "colab": {
          "base_uri": "https://localhost:8080/"
        },
        "id": "64qxpv0b6Tdh",
        "outputId": "aa6ec22f-63ff-49a4-c57b-5e415a084b40"
      },
      "execution_count": 11,
      "outputs": [
        {
          "output_type": "stream",
          "name": "stdout",
          "text": [
            "root\n",
            " |-- id: string (nullable = true)\n",
            " |-- vendor_id: integer (nullable = true)\n",
            " |-- pickup_datetime: timestamp (nullable = true)\n",
            " |-- dropoff_datetime: timestamp (nullable = true)\n",
            " |-- passenger_count: integer (nullable = true)\n",
            " |-- pickup_longitude: double (nullable = true)\n",
            " |-- pickup_latitude: double (nullable = true)\n",
            " |-- dropoff_longitude: double (nullable = true)\n",
            " |-- dropoff_latitude: double (nullable = true)\n",
            " |-- store_and_fwd_flag: string (nullable = true)\n",
            " |-- trip_duration: integer (nullable = true)\n",
            " |-- pickup_hour: integer (nullable = true)\n",
            " |-- pickup_day: integer (nullable = true)\n",
            " |-- pickup_weekday: integer (nullable = true)\n",
            "\n"
          ]
        }
      ]
    },
    {
      "cell_type": "code",
      "source": [
        "from pyspark.ml.feature import VectorAssembler\n",
        "\n",
        "# Assemble features\n",
        "feature_columns = ['pickup_latitude', 'pickup_longitude', 'dropoff_latitude',\n",
        "                   'dropoff_longitude', 'pickup_hour', 'pickup_day', 'pickup_weekday']\n",
        "assembler = VectorAssembler(inputCols=feature_columns, outputCol='features')"
      ],
      "metadata": {
        "id": "3SrWbscC6Nge"
      },
      "execution_count": 12,
      "outputs": []
    },
    {
      "cell_type": "code",
      "source": [
        "from pyspark.sql.functions import col\n",
        "\n",
        "# List of feature columns to cast\n",
        "numeric_columns = ['pickup_latitude', 'pickup_longitude', 'dropoff_latitude', 'dropoff_longitude']\n"
      ],
      "metadata": {
        "id": "NRfOSotGAlC4"
      },
      "execution_count": 13,
      "outputs": []
    },
    {
      "cell_type": "code",
      "source": [
        "# Cast each column to double\n",
        "for column in numeric_columns:\n",
        "    train_data = train_data.withColumn(column, col(column).cast('double'))\n",
        "    test_data = test_data.withColumn(column, col(column).cast('double'))"
      ],
      "metadata": {
        "id": "hLhvP56_AnK6"
      },
      "execution_count": 14,
      "outputs": []
    },
    {
      "cell_type": "code",
      "source": [
        "# Transform the train and test datasets\n",
        "train_data = assembler.transform(train_data).select('features', 'trip_duration')\n",
        "test_data = assembler.transform(test_data).select('features', 'trip_duration')"
      ],
      "metadata": {
        "id": "yc7M3y_v6fem"
      },
      "execution_count": 15,
      "outputs": []
    },
    {
      "cell_type": "code",
      "source": [
        "train_data.select('features', 'trip_duration').show(5, truncate=False)\n"
      ],
      "metadata": {
        "colab": {
          "base_uri": "https://localhost:8080/"
        },
        "id": "HS-1L0gZ6gOE",
        "outputId": "e39804f4-aae5-49fb-f4d8-021bfd31f606"
      },
      "execution_count": 16,
      "outputs": [
        {
          "output_type": "stream",
          "name": "stdout",
          "text": [
            "+------------------------------------------------------------------------------------------+-------------+\n",
            "|features                                                                                  |trip_duration|\n",
            "+------------------------------------------------------------------------------------------+-------------+\n",
            "|[40.72476196289063,-74.00962829589844,40.71548461914063,-74.015869140625,9.0,15.0,4.0]    |303          |\n",
            "|[40.765926361083984,-73.96918487548828,40.76223373413086,-73.98165893554686,22.0,4.0,6.0] |256          |\n",
            "|[40.780948638916016,-73.98369598388672,40.764175415039055,-73.95437622070312,9.0,17.0,3.0]|1939         |\n",
            "|[40.742225646972656,-74.00420379638672,40.75182342529297,-73.9945068359375,3.0,13.0,1.0]  |297          |\n",
            "|[40.817779541015625,-73.9420623779297,40.64738845825195,-73.7889175415039,4.0,28.0,7.0]   |1620         |\n",
            "+------------------------------------------------------------------------------------------+-------------+\n",
            "only showing top 5 rows\n",
            "\n"
          ]
        }
      ]
    },
    {
      "cell_type": "code",
      "source": [
        "from pyspark.sql.functions import col\n",
        "\n",
        "# Cast trip_duration as double\n",
        "train_data = train_data.withColumn('trip_duration', col('trip_duration').cast('double'))\n",
        "test_data = test_data.withColumn('trip_duration', col('trip_duration').cast('double'))"
      ],
      "metadata": {
        "id": "8YsTFUmtA4B0"
      },
      "execution_count": 17,
      "outputs": []
    },
    {
      "cell_type": "code",
      "source": [
        "model = rf.fit(train_data)\n"
      ],
      "metadata": {
        "id": "xmDuDPXk6nbH"
      },
      "execution_count": 18,
      "outputs": []
    },
    {
      "cell_type": "code",
      "source": [
        "# Make Predictions\n",
        "predictions = model.transform(test_data)"
      ],
      "metadata": {
        "id": "690usrph6q2R"
      },
      "execution_count": 19,
      "outputs": []
    },
    {
      "cell_type": "code",
      "source": [
        "from pyspark.ml.evaluation import RegressionEvaluator\n",
        "\n",
        "# Evaluate the Model\n",
        "evaluator = RegressionEvaluator(labelCol='trip_duration', predictionCol='prediction', metricName='rmse')\n",
        "rmse = evaluator.evaluate(predictions)\n",
        "mae = evaluator.evaluate(predictions, {evaluator.metricName: \"mae\"})"
      ],
      "metadata": {
        "id": "7giXsLmL8T6S"
      },
      "execution_count": 20,
      "outputs": []
    },
    {
      "cell_type": "code",
      "source": [
        "print(f\"Root Mean Squared Error (RMSE): {rmse}\")\n",
        "print(f\"Mean Absolute Error (MAE): {mae}\")\n"
      ],
      "metadata": {
        "colab": {
          "base_uri": "https://localhost:8080/"
        },
        "id": "nqovJar_856A",
        "outputId": "cb10627a-ffab-4007-a166-4f4861ecb1a8"
      },
      "execution_count": 21,
      "outputs": [
        {
          "output_type": "stream",
          "name": "stdout",
          "text": [
            "Root Mean Squared Error (RMSE): 3119.1276756613697\n",
            "Mean Absolute Error (MAE): 505.86142623454435\n"
          ]
        }
      ]
    },
    {
      "cell_type": "code",
      "source": [
        "import matplotlib.pyplot as plt\n",
        "\n",
        "# Convert predictions to pandas for visualization\n",
        "predictions_pandas = predictions.select('trip_duration', 'prediction').toPandas()\n",
        "predictions_pandas.head()"
      ],
      "metadata": {
        "id": "mar8pAG7CyKW",
        "colab": {
          "base_uri": "https://localhost:8080/",
          "height": 206
        },
        "outputId": "13a8fb15-d2cb-44f8-f235-79756d7f35c3"
      },
      "execution_count": 22,
      "outputs": [
        {
          "output_type": "execute_result",
          "data": {
            "text/plain": [
              "   trip_duration   prediction\n",
              "0          427.0   813.353015\n",
              "1          225.0   818.663492\n",
              "2          564.0   819.469303\n",
              "3         2531.0  1872.404963\n",
              "4          319.0   821.748299"
            ],
            "text/html": [
              "\n",
              "  <div id=\"df-2462cfe2-12c5-4fcc-8de0-cc1fe60d9fbb\" class=\"colab-df-container\">\n",
              "    <div>\n",
              "<style scoped>\n",
              "    .dataframe tbody tr th:only-of-type {\n",
              "        vertical-align: middle;\n",
              "    }\n",
              "\n",
              "    .dataframe tbody tr th {\n",
              "        vertical-align: top;\n",
              "    }\n",
              "\n",
              "    .dataframe thead th {\n",
              "        text-align: right;\n",
              "    }\n",
              "</style>\n",
              "<table border=\"1\" class=\"dataframe\">\n",
              "  <thead>\n",
              "    <tr style=\"text-align: right;\">\n",
              "      <th></th>\n",
              "      <th>trip_duration</th>\n",
              "      <th>prediction</th>\n",
              "    </tr>\n",
              "  </thead>\n",
              "  <tbody>\n",
              "    <tr>\n",
              "      <th>0</th>\n",
              "      <td>427.0</td>\n",
              "      <td>813.353015</td>\n",
              "    </tr>\n",
              "    <tr>\n",
              "      <th>1</th>\n",
              "      <td>225.0</td>\n",
              "      <td>818.663492</td>\n",
              "    </tr>\n",
              "    <tr>\n",
              "      <th>2</th>\n",
              "      <td>564.0</td>\n",
              "      <td>819.469303</td>\n",
              "    </tr>\n",
              "    <tr>\n",
              "      <th>3</th>\n",
              "      <td>2531.0</td>\n",
              "      <td>1872.404963</td>\n",
              "    </tr>\n",
              "    <tr>\n",
              "      <th>4</th>\n",
              "      <td>319.0</td>\n",
              "      <td>821.748299</td>\n",
              "    </tr>\n",
              "  </tbody>\n",
              "</table>\n",
              "</div>\n",
              "    <div class=\"colab-df-buttons\">\n",
              "\n",
              "  <div class=\"colab-df-container\">\n",
              "    <button class=\"colab-df-convert\" onclick=\"convertToInteractive('df-2462cfe2-12c5-4fcc-8de0-cc1fe60d9fbb')\"\n",
              "            title=\"Convert this dataframe to an interactive table.\"\n",
              "            style=\"display:none;\">\n",
              "\n",
              "  <svg xmlns=\"http://www.w3.org/2000/svg\" height=\"24px\" viewBox=\"0 -960 960 960\">\n",
              "    <path d=\"M120-120v-720h720v720H120Zm60-500h600v-160H180v160Zm220 220h160v-160H400v160Zm0 220h160v-160H400v160ZM180-400h160v-160H180v160Zm440 0h160v-160H620v160ZM180-180h160v-160H180v160Zm440 0h160v-160H620v160Z\"/>\n",
              "  </svg>\n",
              "    </button>\n",
              "\n",
              "  <style>\n",
              "    .colab-df-container {\n",
              "      display:flex;\n",
              "      gap: 12px;\n",
              "    }\n",
              "\n",
              "    .colab-df-convert {\n",
              "      background-color: #E8F0FE;\n",
              "      border: none;\n",
              "      border-radius: 50%;\n",
              "      cursor: pointer;\n",
              "      display: none;\n",
              "      fill: #1967D2;\n",
              "      height: 32px;\n",
              "      padding: 0 0 0 0;\n",
              "      width: 32px;\n",
              "    }\n",
              "\n",
              "    .colab-df-convert:hover {\n",
              "      background-color: #E2EBFA;\n",
              "      box-shadow: 0px 1px 2px rgba(60, 64, 67, 0.3), 0px 1px 3px 1px rgba(60, 64, 67, 0.15);\n",
              "      fill: #174EA6;\n",
              "    }\n",
              "\n",
              "    .colab-df-buttons div {\n",
              "      margin-bottom: 4px;\n",
              "    }\n",
              "\n",
              "    [theme=dark] .colab-df-convert {\n",
              "      background-color: #3B4455;\n",
              "      fill: #D2E3FC;\n",
              "    }\n",
              "\n",
              "    [theme=dark] .colab-df-convert:hover {\n",
              "      background-color: #434B5C;\n",
              "      box-shadow: 0px 1px 3px 1px rgba(0, 0, 0, 0.15);\n",
              "      filter: drop-shadow(0px 1px 2px rgba(0, 0, 0, 0.3));\n",
              "      fill: #FFFFFF;\n",
              "    }\n",
              "  </style>\n",
              "\n",
              "    <script>\n",
              "      const buttonEl =\n",
              "        document.querySelector('#df-2462cfe2-12c5-4fcc-8de0-cc1fe60d9fbb button.colab-df-convert');\n",
              "      buttonEl.style.display =\n",
              "        google.colab.kernel.accessAllowed ? 'block' : 'none';\n",
              "\n",
              "      async function convertToInteractive(key) {\n",
              "        const element = document.querySelector('#df-2462cfe2-12c5-4fcc-8de0-cc1fe60d9fbb');\n",
              "        const dataTable =\n",
              "          await google.colab.kernel.invokeFunction('convertToInteractive',\n",
              "                                                    [key], {});\n",
              "        if (!dataTable) return;\n",
              "\n",
              "        const docLinkHtml = 'Like what you see? Visit the ' +\n",
              "          '<a target=\"_blank\" href=https://colab.research.google.com/notebooks/data_table.ipynb>data table notebook</a>'\n",
              "          + ' to learn more about interactive tables.';\n",
              "        element.innerHTML = '';\n",
              "        dataTable['output_type'] = 'display_data';\n",
              "        await google.colab.output.renderOutput(dataTable, element);\n",
              "        const docLink = document.createElement('div');\n",
              "        docLink.innerHTML = docLinkHtml;\n",
              "        element.appendChild(docLink);\n",
              "      }\n",
              "    </script>\n",
              "  </div>\n",
              "\n",
              "\n",
              "<div id=\"df-9f407c7e-3207-429d-af3f-b14932dea53f\">\n",
              "  <button class=\"colab-df-quickchart\" onclick=\"quickchart('df-9f407c7e-3207-429d-af3f-b14932dea53f')\"\n",
              "            title=\"Suggest charts\"\n",
              "            style=\"display:none;\">\n",
              "\n",
              "<svg xmlns=\"http://www.w3.org/2000/svg\" height=\"24px\"viewBox=\"0 0 24 24\"\n",
              "     width=\"24px\">\n",
              "    <g>\n",
              "        <path d=\"M19 3H5c-1.1 0-2 .9-2 2v14c0 1.1.9 2 2 2h14c1.1 0 2-.9 2-2V5c0-1.1-.9-2-2-2zM9 17H7v-7h2v7zm4 0h-2V7h2v10zm4 0h-2v-4h2v4z\"/>\n",
              "    </g>\n",
              "</svg>\n",
              "  </button>\n",
              "\n",
              "<style>\n",
              "  .colab-df-quickchart {\n",
              "      --bg-color: #E8F0FE;\n",
              "      --fill-color: #1967D2;\n",
              "      --hover-bg-color: #E2EBFA;\n",
              "      --hover-fill-color: #174EA6;\n",
              "      --disabled-fill-color: #AAA;\n",
              "      --disabled-bg-color: #DDD;\n",
              "  }\n",
              "\n",
              "  [theme=dark] .colab-df-quickchart {\n",
              "      --bg-color: #3B4455;\n",
              "      --fill-color: #D2E3FC;\n",
              "      --hover-bg-color: #434B5C;\n",
              "      --hover-fill-color: #FFFFFF;\n",
              "      --disabled-bg-color: #3B4455;\n",
              "      --disabled-fill-color: #666;\n",
              "  }\n",
              "\n",
              "  .colab-df-quickchart {\n",
              "    background-color: var(--bg-color);\n",
              "    border: none;\n",
              "    border-radius: 50%;\n",
              "    cursor: pointer;\n",
              "    display: none;\n",
              "    fill: var(--fill-color);\n",
              "    height: 32px;\n",
              "    padding: 0;\n",
              "    width: 32px;\n",
              "  }\n",
              "\n",
              "  .colab-df-quickchart:hover {\n",
              "    background-color: var(--hover-bg-color);\n",
              "    box-shadow: 0 1px 2px rgba(60, 64, 67, 0.3), 0 1px 3px 1px rgba(60, 64, 67, 0.15);\n",
              "    fill: var(--button-hover-fill-color);\n",
              "  }\n",
              "\n",
              "  .colab-df-quickchart-complete:disabled,\n",
              "  .colab-df-quickchart-complete:disabled:hover {\n",
              "    background-color: var(--disabled-bg-color);\n",
              "    fill: var(--disabled-fill-color);\n",
              "    box-shadow: none;\n",
              "  }\n",
              "\n",
              "  .colab-df-spinner {\n",
              "    border: 2px solid var(--fill-color);\n",
              "    border-color: transparent;\n",
              "    border-bottom-color: var(--fill-color);\n",
              "    animation:\n",
              "      spin 1s steps(1) infinite;\n",
              "  }\n",
              "\n",
              "  @keyframes spin {\n",
              "    0% {\n",
              "      border-color: transparent;\n",
              "      border-bottom-color: var(--fill-color);\n",
              "      border-left-color: var(--fill-color);\n",
              "    }\n",
              "    20% {\n",
              "      border-color: transparent;\n",
              "      border-left-color: var(--fill-color);\n",
              "      border-top-color: var(--fill-color);\n",
              "    }\n",
              "    30% {\n",
              "      border-color: transparent;\n",
              "      border-left-color: var(--fill-color);\n",
              "      border-top-color: var(--fill-color);\n",
              "      border-right-color: var(--fill-color);\n",
              "    }\n",
              "    40% {\n",
              "      border-color: transparent;\n",
              "      border-right-color: var(--fill-color);\n",
              "      border-top-color: var(--fill-color);\n",
              "    }\n",
              "    60% {\n",
              "      border-color: transparent;\n",
              "      border-right-color: var(--fill-color);\n",
              "    }\n",
              "    80% {\n",
              "      border-color: transparent;\n",
              "      border-right-color: var(--fill-color);\n",
              "      border-bottom-color: var(--fill-color);\n",
              "    }\n",
              "    90% {\n",
              "      border-color: transparent;\n",
              "      border-bottom-color: var(--fill-color);\n",
              "    }\n",
              "  }\n",
              "</style>\n",
              "\n",
              "  <script>\n",
              "    async function quickchart(key) {\n",
              "      const quickchartButtonEl =\n",
              "        document.querySelector('#' + key + ' button');\n",
              "      quickchartButtonEl.disabled = true;  // To prevent multiple clicks.\n",
              "      quickchartButtonEl.classList.add('colab-df-spinner');\n",
              "      try {\n",
              "        const charts = await google.colab.kernel.invokeFunction(\n",
              "            'suggestCharts', [key], {});\n",
              "      } catch (error) {\n",
              "        console.error('Error during call to suggestCharts:', error);\n",
              "      }\n",
              "      quickchartButtonEl.classList.remove('colab-df-spinner');\n",
              "      quickchartButtonEl.classList.add('colab-df-quickchart-complete');\n",
              "    }\n",
              "    (() => {\n",
              "      let quickchartButtonEl =\n",
              "        document.querySelector('#df-9f407c7e-3207-429d-af3f-b14932dea53f button');\n",
              "      quickchartButtonEl.style.display =\n",
              "        google.colab.kernel.accessAllowed ? 'block' : 'none';\n",
              "    })();\n",
              "  </script>\n",
              "</div>\n",
              "\n",
              "    </div>\n",
              "  </div>\n"
            ],
            "application/vnd.google.colaboratory.intrinsic+json": {
              "type": "dataframe",
              "variable_name": "predictions_pandas"
            }
          },
          "metadata": {},
          "execution_count": 22
        }
      ]
    },
    {
      "cell_type": "code",
      "source": [
        "# Plot Actual vs. Predicted trip duration\n",
        "plt.figure(figsize=(10, 6))\n",
        "plt.scatter(predictions_pandas['trip_duration'], predictions_pandas['prediction'], alpha=0.5, label='Data Points')\n",
        "plt.plot([0, predictions_pandas['trip_duration'].max()],\n",
        "         [0, predictions_pandas['trip_duration'].max()], color='red', linestyle='--', label='Ideal Fit')\n",
        "plt.title('Actual vs Predicted Trip Duration')\n",
        "plt.xlabel('Actual Trip Duration (seconds)')\n",
        "plt.ylabel('Predicted Trip Duration (seconds)')\n",
        "plt.legend()\n",
        "plt.grid()\n",
        "plt.show()"
      ],
      "metadata": {
        "id": "BOS-IfO6C0jv",
        "colab": {
          "base_uri": "https://localhost:8080/",
          "height": 564
        },
        "outputId": "6c612d9c-9589-409d-d168-9e4cd54bbb3a"
      },
      "execution_count": 23,
      "outputs": [
        {
          "output_type": "display_data",
          "data": {
            "text/plain": [
              "<Figure size 1000x600 with 1 Axes>"
            ],
            "image/png": "[encoded data removed]"
          },
          "metadata": {}
        }
      ]
    },
    {
      "cell_type": "code",
      "source": [
        "from pyspark.ml.regression import LinearRegression\n",
        "\n",
        "# Define the Linear Regression model\n",
        "lr = LinearRegression(featuresCol='features', labelCol='trip_duration')"
      ],
      "metadata": {
        "id": "ksG_EEElDor-"
      },
      "execution_count": 24,
      "outputs": []
    },
    {
      "cell_type": "code",
      "source": [
        "# Train the model\n",
        "linear_model = lr.fit(train_data)"
      ],
      "metadata": {
        "id": "zRfMMzr-Dqni"
      },
      "execution_count": 25,
      "outputs": []
    },
    {
      "cell_type": "code",
      "source": [
        "# Make predictions\n",
        "linear_predictions = linear_model.transform(test_data)"
      ],
      "metadata": {
        "id": "JUqRXCloD86S"
      },
      "execution_count": 26,
      "outputs": []
    },
    {
      "cell_type": "code",
      "source": [
        "# Evaluate the model\n",
        "lr_rmse = evaluator.evaluate(linear_predictions)\n",
        "lr_mae = evaluator.evaluate(linear_predictions, {evaluator.metricName: \"mae\"})\n",
        "\n",
        "print(f\"Linear Regression - Root Mean Squared Error (RMSE): {lr_rmse}\")\n",
        "print(f\"Linear Regression - Mean Absolute Error (MAE): {lr_mae}\")"
      ],
      "metadata": {
        "id": "sXWkFMwLD_nl",
        "colab": {
          "base_uri": "https://localhost:8080/"
        },
        "outputId": "3c92d867-effa-4fd2-b108-9ed1a7e0a795"
      },
      "execution_count": 27,
      "outputs": [
        {
          "output_type": "stream",
          "name": "stdout",
          "text": [
            "Linear Regression - Root Mean Squared Error (RMSE): 3147.113573166716\n",
            "Linear Regression - Mean Absolute Error (MAE): 592.9455930033218\n"
          ]
        }
      ]
    },
    {
      "cell_type": "code",
      "source": [
        "linear_predictions.show()\n"
      ],
      "metadata": {
        "colab": {
          "base_uri": "https://localhost:8080/"
        },
        "id": "ryCP3B-_gEnT",
        "outputId": "e1f97f7d-8e7b-4164-8544-992a7dc3bfc5"
      },
      "execution_count": 28,
      "outputs": [
        {
          "output_type": "stream",
          "name": "stdout",
          "text": [
            "+--------------------+-------------+------------------+\n",
            "|            features|trip_duration|        prediction|\n",
            "+--------------------+-------------+------------------+\n",
            "|[40.7637863159179...|        427.0| 940.7123599908664|\n",
            "|[40.7304382324218...|        225.0| 991.0200288758497|\n",
            "|[40.7422790527343...|        564.0| 985.2501915977336|\n",
            "|[40.7617492675781...|       2531.0|1024.8802439430729|\n",
            "|[40.7498016357421...|        319.0| 916.5044748937944|\n",
            "|[40.7627754211425...|       1084.0| 876.8405412035645|\n",
            "|[40.7459564208984...|        443.0| 978.2553961175727|\n",
            "|[40.7359199523925...|       1792.0| 943.1352065388928|\n",
            "|[40.7404937744140...|        283.0|  891.547353283444|\n",
            "|[40.7552490234375...|        844.0| 858.8546783927013|\n",
            "|[40.7805709838867...|        282.0| 883.7724301655544|\n",
            "|[40.7388381958007...|        313.0| 990.9939815672697|\n",
            "|[40.7369041442871...|       1096.0|1020.1594477623003|\n",
            "|[40.7702102661132...|       1643.0|  738.992764371098|\n",
            "|[40.7288513183593...|        146.0|1043.6748038509395|\n",
            "|[40.7225608825683...|        511.0| 1065.680697838252|\n",
            "|[40.7938804626464...|        492.0| 755.3689102115459|\n",
            "|[40.7451019287109...|       1491.0| 937.1183757329709|\n",
            "|[40.7677345275878...|        123.0| 868.7895302168909|\n",
            "|[40.7443199157714...|        368.0| 966.3780388921732|\n",
            "+--------------------+-------------+------------------+\n",
            "only showing top 20 rows\n",
            "\n"
          ]
        }
      ]
    },
    {
      "cell_type": "code",
      "source": [
        "# Convert Spark DataFrame to Pandas for easy manipulation\n",
        "linear_predictions_pandas = linear_predictions.select(\"trip_duration\", \"prediction\").toPandas()"
      ],
      "metadata": {
        "id": "_hD0HaXhh7kX"
      },
      "execution_count": 29,
      "outputs": []
    },
    {
      "cell_type": "code",
      "source": [
        "# Extract actual and predicted values\n",
        "actual = linear_predictions_pandas[\"trip_duration\"]\n",
        "predicted = linear_predictions_pandas[\"prediction\"]"
      ],
      "metadata": {
        "id": "8NqYujjph-4d"
      },
      "execution_count": 30,
      "outputs": []
    },
    {
      "cell_type": "code",
      "source": [
        "# Plot actual vs predicted values\n",
        "plt.figure(figsize=(10, 6))\n",
        "plt.scatter(actual, predicted, label=\"Data Points\", alpha=0.7, color='blue')\n",
        "plt.plot([actual.min(), actual.max()], [actual.min(), actual.max()], color=\"red\", linestyle=\"--\", label=\"Ideal Fit\")\n",
        "\n",
        "plt.xlabel(\"Actual Trip Duration (seconds)\")\n",
        "plt.ylabel(\"Predicted Trip Duration (seconds)\")\n",
        "plt.title(\"Actual vs Predicted Trip Duration (Linear Regression)\")\n",
        "plt.legend()\n",
        "plt.grid(True)\n",
        "plt.show()"
      ],
      "metadata": {
        "colab": {
          "base_uri": "https://localhost:8080/",
          "height": 564
        },
        "id": "IFqFNmx8iENw",
        "outputId": "f020b571-76f2-4a8f-b33c-571a1f23238a"
      },
      "execution_count": 31,
      "outputs": [
        {
          "output_type": "display_data",
          "data": {
            "text/plain": [
              "<Figure size 1000x600 with 1 Axes>"
            ],
            "image/png": "[encoded data removed]"
          },
          "metadata": {}
        }
      ]
    }
  ]
}