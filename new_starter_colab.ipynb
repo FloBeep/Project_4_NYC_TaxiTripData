{
  "nbformat": 4,
  "nbformat_minor": 0,
  "metadata": {
    "colab": {
      "provenance": []
    },
    "kernelspec": {
      "name": "python3",
      "display_name": "Python 3"
    },
    "language_info": {
      "name": "python"
    }
  },
  "cells": [
    {
      "cell_type": "code",
      "source": [
        "import os\n",
        "import pandas as pd\n",
        "# spark version 3.4.4 performs best; other versions here https://downloads.apache.org/spark/\n",
        "# spark_version = 'spark-3.4.4'\n",
        "spark_version = 'spark-3.4.4'\n",
        "os.environ['SPARK_VERSION']=spark_version\n",
        "\n",
        "# Install Spark and Java\n",
        "!apt-get update\n",
        "!apt-get install openjdk-11-jdk-headless -qq > /dev/null\n",
        "!wget -q https://downloads.apache.org/spark/$SPARK_VERSION/$SPARK_VERSION-bin-hadoop3.tgz\n",
        "!tar xf $SPARK_VERSION-bin-hadoop3.tgz\n",
        "!pip install -q findspark\n",
        "\n",
        "# Set Environment Variables\n",
        "os.environ[\"JAVA_HOME\"] = \"/usr/lib/jvm/java-11-openjdk-amd64\"\n",
        "os.environ[\"SPARK_HOME\"] = f\"/content/{spark_version}-bin-hadoop3\"\n",
        "\n",
        "# Start a SparkSession\n",
        "import findspark\n",
        "findspark.init()"
      ],
      "metadata": {
        "colab": {
          "base_uri": "https://localhost:8080/"
        },
        "id": "VYbFLnEiOd4S",
        "outputId": "70dbf608-a250-433a-c1eb-f8449c4efd53"
      },
      "execution_count": 1,
      "outputs": [
        {
          "output_type": "stream",
          "name": "stdout",
          "text": [
            "\r0% [Working]\r            \rGet:1 https://cloud.r-project.org/bin/linux/ubuntu jammy-cran40/ InRelease [3,626 B]\n",
            "Get:2 https://developer.download.nvidia.com/compute/cuda/repos/ubuntu2204/x86_64  InRelease [1,581 B]\n",
            "Get:3 http://security.ubuntu.com/ubuntu jammy-security InRelease [129 kB]\n",
            "Get:4 https://r2u.stat.illinois.edu/ubuntu jammy InRelease [6,555 B]\n",
            "Get:5 https://developer.download.nvidia.com/compute/cuda/repos/ubuntu2204/x86_64  Packages [1,190 kB]\n",
            "Hit:6 http://archive.ubuntu.com/ubuntu jammy InRelease\n",
            "Get:7 https://r2u.stat.illinois.edu/ubuntu jammy/main all Packages [8,523 kB]\n",
            "Get:8 http://archive.ubuntu.com/ubuntu jammy-updates InRelease [128 kB]\n",
            "Get:9 http://security.ubuntu.com/ubuntu jammy-security/universe amd64 Packages [1,225 kB]\n",
            "Get:10 https://ppa.launchpadcontent.net/deadsnakes/ppa/ubuntu jammy InRelease [18.1 kB]\n",
            "Hit:11 https://ppa.launchpadcontent.net/graphics-drivers/ppa/ubuntu jammy InRelease\n",
            "Hit:12 https://ppa.launchpadcontent.net/ubuntugis/ppa/ubuntu jammy InRelease\n",
            "Get:13 http://security.ubuntu.com/ubuntu jammy-security/main amd64 Packages [2,454 kB]\n",
            "Get:14 http://archive.ubuntu.com/ubuntu jammy-backports InRelease [127 kB]\n",
            "Get:15 https://r2u.stat.illinois.edu/ubuntu jammy/main amd64 Packages [2,625 kB]\n",
            "Get:16 https://ppa.launchpadcontent.net/deadsnakes/ppa/ubuntu jammy/main amd64 Packages [35.0 kB]\n",
            "Get:17 http://archive.ubuntu.com/ubuntu jammy-updates/main amd64 Packages [2,738 kB]\n",
            "Get:18 http://archive.ubuntu.com/ubuntu jammy-updates/universe amd64 Packages [1,514 kB]\n",
            "Get:19 http://archive.ubuntu.com/ubuntu jammy-updates/multiverse amd64 Packages [53.3 kB]\n",
            "Get:20 http://archive.ubuntu.com/ubuntu jammy-updates/restricted amd64 Packages [3,419 kB]\n",
            "Fetched 24.2 MB in 3s (8,013 kB/s)\n",
            "Reading package lists... Done\n",
            "W: Skipping acquire of configured file 'main/source/Sources' as repository 'https://r2u.stat.illinois.edu/ubuntu jammy InRelease' does not seem to provide it (sources.list entry misspelt?)\n"
          ]
        }
      ]
    },
    {
      "cell_type": "code",
      "source": [
        "# Import necessary libraries\n",
        "import pandas as pd\n",
        "from pyspark.sql import SparkSession\n",
        "\n",
        "# Initialize SparkSession\n",
        "spark = SparkSession.builder \\\n",
        "    .appName(\"NYC Taxi Data Analysis\") \\\n",
        "    .getOrCreate()\n",
        "\n",
        "# URL of the CSV file\n",
        "data_url = \"https://project4-nyctaxi.s3.us-east-1.amazonaws.com/train.csv\"\n",
        "\n",
        "# Download the file using Pandas\n",
        "local_file = \"new_train.csv\"\n",
        "pd.read_csv(data_url).to_csv(local_file, index=False)\n",
        "\n",
        "# Read the local file into a Spark DataFrame\n",
        "df = spark.read.csv(local_file, header=True, inferSchema=True)\n",
        "\n",
        "# Show the DataFrame\n",
        "df.show()"
      ],
      "metadata": {
        "colab": {
          "base_uri": "https://localhost:8080/"
        },
        "id": "-RIwdj_ZOdqP",
        "outputId": "d7cd24ba-2cfc-439e-a3b4-250571272f8f"
      },
      "execution_count": 2,
      "outputs": [
        {
          "output_type": "stream",
          "name": "stdout",
          "text": [
            "+---------+---------+-------------------+-------------------+---------------+------------------+------------------+------------------+------------------+------------------+-------------+\n",
            "|       id|vendor_id|    pickup_datetime|   dropoff_datetime|passenger_count|  pickup_longitude|   pickup_latitude| dropoff_longitude|  dropoff_latitude|store_and_fwd_flag|trip_duration|\n",
            "+---------+---------+-------------------+-------------------+---------------+------------------+------------------+------------------+------------------+------------------+-------------+\n",
            "|id2875421|        2|2016-03-14 17:24:55|2016-03-14 17:32:30|              1|-73.98215484619139| 40.76793670654297|-73.96463012695312|40.765602111816406|                 N|          455|\n",
            "|id2377394|        1|2016-06-12 00:43:35|2016-06-12 00:54:38|              1|-73.98041534423827|40.738563537597656|-73.99948120117188|40.731151580810554|                 N|          663|\n",
            "|id3858529|        2|2016-01-19 11:35:24|2016-01-19 12:10:48|              1|-73.97902679443358|40.763938903808594|-74.00533294677734|40.710086822509766|                 N|         2124|\n",
            "|id3504673|        2|2016-04-06 19:32:31|2016-04-06 19:39:40|              1|-74.01004028320312|   40.719970703125|-74.01226806640625| 40.70671844482422|                 N|          429|\n",
            "|id2181028|        2|2016-03-26 13:30:55|2016-03-26 13:38:10|              1|-73.97305297851561| 40.79320907592773| -73.9729232788086|40.782520294189446|                 N|          435|\n",
            "|id0801584|        2|2016-01-30 22:01:40|2016-01-30 22:09:03|              6|-73.98285675048828| 40.74219512939453|-73.99208068847656| 40.74918365478516|                 N|          443|\n",
            "|id1813257|        1|2016-06-17 22:34:59|2016-06-17 22:40:40|              4| -73.9690170288086| 40.75783920288086|-73.95740509033203| 40.76589584350586|                 N|          341|\n",
            "|id1324603|        2|2016-05-21 07:54:58|2016-05-21 08:20:49|              1|-73.96927642822266| 40.79777908325195|-73.92247009277344| 40.76055908203125|                 N|         1551|\n",
            "|id1301050|        1|2016-05-27 23:12:23|2016-05-27 23:16:38|              1|-73.99948120117188|40.738399505615234|-73.98578643798828| 40.73281478881836|                 N|          255|\n",
            "|id0012891|        2|2016-03-10 21:45:01|2016-03-10 22:05:26|              1|-73.98104858398438|40.744338989257805| -73.9729995727539| 40.78998947143555|                 N|         1225|\n",
            "|id1436371|        2|2016-05-10 22:08:41|2016-05-10 22:29:55|              1|-73.98265075683594| 40.76383972167969|-74.00222778320312| 40.73299026489258|                 N|         1274|\n",
            "|id1299289|        2|2016-05-15 11:16:11|2016-05-15 11:34:59|              4| -73.9915313720703| 40.74943923950195|   -73.95654296875|  40.7706298828125|                 N|         1128|\n",
            "|id1187965|        2|2016-02-19 09:52:46|2016-02-19 10:11:20|              2|-73.96298217773438|  40.7566795349121|-73.98440551757811|40.760719299316406|                 N|         1114|\n",
            "|id0799785|        2|2016-06-01 20:58:29|2016-06-01 21:02:49|              1|-73.95630645751953| 40.76794052124024|-73.96611022949219| 40.76300048828125|                 N|          260|\n",
            "|id2900608|        2|2016-05-27 00:43:36|2016-05-27 01:07:10|              1|-73.99219512939453| 40.72722625732422| -73.9746551513672|40.783069610595696|                 N|         1414|\n",
            "|id3319787|        1|2016-05-16 15:29:02|2016-05-16 15:32:33|              1|-73.95551300048828|40.768592834472656|-73.94876098632812| 40.77154541015625|                 N|          211|\n",
            "|id3379579|        2|2016-04-11 17:29:50|2016-04-11 18:08:26|              1|-73.99116516113281| 40.75556182861328| -73.9992904663086|  40.7253532409668|                 N|         2316|\n",
            "|id1154431|        1|2016-04-14 08:48:26|2016-04-14 09:00:37|              1|-73.99425506591797|40.745803833007805| -73.9996566772461|40.723342895507805|                 N|          731|\n",
            "|id3552682|        1|2016-06-27 09:55:13|2016-06-27 10:17:10|              1|-74.00398254394531|  40.7130126953125|-73.97919464111328| 40.74992370605469|                 N|         1317|\n",
            "|id3390316|        2|2016-06-05 13:47:23|2016-06-05 13:51:34|              1|   -73.98388671875| 40.73819732666016|-73.99120330810547|  40.7278709411621|                 N|          251|\n",
            "+---------+---------+-------------------+-------------------+---------------+------------------+------------------+------------------+------------------+------------------+-------------+\n",
            "only showing top 20 rows\n",
            "\n"
          ]
        }
      ]
    },
    {
      "cell_type": "code",
      "execution_count": null,
      "metadata": {
        "id": "OWUeZaL7OXIc"
      },
      "outputs": [],
      "source": []
    }
  ]
}